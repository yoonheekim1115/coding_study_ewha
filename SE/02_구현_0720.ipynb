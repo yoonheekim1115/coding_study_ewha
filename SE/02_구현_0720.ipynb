{
  "nbformat": 4,
  "nbformat_minor": 0,
  "metadata": {
    "colab": {
      "name": "02. 구현_0720.ipynb",
      "provenance": [],
      "collapsed_sections": [],
      "authorship_tag": "ABX9TyP3kCCth+sj/Ldbtnh5cdro",
      "include_colab_link": true
    },
    "kernelspec": {
      "name": "python3",
      "display_name": "Python 3"
    }
  },
  "cells": [
    {
      "cell_type": "markdown",
      "metadata": {
        "id": "view-in-github",
        "colab_type": "text"
      },
      "source": [
        "<a href=\"https://colab.research.google.com/github/yoonheekim1115/coding_study_ewha/blob/main/SE/02_%EA%B5%AC%ED%98%84_0720.ipynb\" target=\"_parent\"><img src=\"https://colab.research.google.com/assets/colab-badge.svg\" alt=\"Open In Colab\"/></a>"
      ]
    },
    {
      "cell_type": "markdown",
      "metadata": {
        "id": "oLFfIyWPqhB1"
      },
      "source": [
        "# 2. 구현"
      ]
    },
    {
      "cell_type": "markdown",
      "metadata": {
        "id": "Enwo2NGMIz24"
      },
      "source": [
        "## 1) 개념정리 및 예제"
      ]
    },
    {
      "cell_type": "code",
      "metadata": {
        "id": "i8mXsdtHUDgc",
        "colab": {
          "base_uri": "https://localhost:8080/"
        },
        "outputId": "a0fd28dc-21c1-455a-912c-0d191c58aa8d"
      },
      "source": [
        "# 예제 4-1 상하좌우\n",
        "\n",
        "n = int(input())\n",
        "data = list(map(str, input().split()))\n",
        "\n",
        "x,y=1,1\n",
        "\n",
        "# L,R,U,D 순서대로 입력\n",
        "\n",
        "dx = [0,0,-1,1]\n",
        "dy = [-1,1,0,0]\n",
        "types = ['L','R','U','D']\n",
        "\n",
        "for i in range(len(data)):\n",
        "  nx = x+dx[types.index(data[i])] # 처음에 여기를 할당연산자를 사용했는데, 그렇게하면 안되나봄... \n",
        "  ny = y+dy[types.index(data[i])] \n",
        "  if nx<1 or ny<1 or nx>n or ny>n:\n",
        "    continue\n",
        "  \n",
        "  x=nx; y=ny\n",
        "\n",
        "print(x,y)  "
      ],
      "execution_count": null,
      "outputs": [
        {
          "output_type": "stream",
          "text": [
            "5\n",
            "R R R U D D\n",
            "3 4\n"
          ],
          "name": "stdout"
        }
      ]
    },
    {
      "cell_type": "code",
      "metadata": {
        "colab": {
          "base_uri": "https://localhost:8080/"
        },
        "id": "czMuWgT4JNCH",
        "outputId": "89d010c5-56e4-4dbb-f806-84192b2ca6a2"
      },
      "source": [
        "# 예제 4-2 시각\n",
        "\n",
        "n = int(input())\n",
        "\n",
        "count=0\n",
        "\n",
        "for i in range(n+1):  \n",
        "  for j in range(60):\n",
        "    for k in range(60):\n",
        "      if i%10==3 or j%10==3 or j//10==3 or k%10==3 or k//10==3:\n",
        "        count += 1\n",
        "\n",
        "print(count)"
      ],
      "execution_count": null,
      "outputs": [
        {
          "output_type": "stream",
          "text": [
            "5\n",
            "11475\n"
          ],
          "name": "stdout"
        }
      ]
    },
    {
      "cell_type": "code",
      "metadata": {
        "colab": {
          "base_uri": "https://localhost:8080/"
        },
        "id": "xyROmzmZ-9IG",
        "outputId": "064f13e7-ec9b-483f-a3f6-59905596c88d"
      },
      "source": [
        "# 실전 1 - 왕실의 나이트\n",
        "# 경우의 수를 구하는 거. 위치가 중요하진 않음\n",
        "\n",
        "data = input()\n",
        "count = 0\n",
        "\n",
        "moves=[(1,2),(2,1),(-1,2),(-2,1),(-1,-2),(-2,-1),(1,-2),(2,-1)]\n",
        "row=['a','b','c','d','e','f','g','h']\n",
        "\n",
        "x=data[0]; y=int(data[1])\n",
        "\n",
        "for move in moves:\n",
        "  nx = row.index(x)+move[0]\n",
        "  ny = y+move[1]\n",
        "\n",
        "  if nx<0 or ny<1 or nx>8 or ny>8:\n",
        "    continue\n",
        "\n",
        "  count += 1\n",
        "  \n",
        "print(count)"
      ],
      "execution_count": null,
      "outputs": [
        {
          "output_type": "stream",
          "text": [
            "a1\n",
            "2\n"
          ],
          "name": "stdout"
        }
      ]
    },
    {
      "cell_type": "code",
      "metadata": {
        "id": "SF9lDisTDdg2"
      },
      "source": [
        "# 실전 2 - 게임 개발\n",
        "\n"
      ],
      "execution_count": null,
      "outputs": []
    },
    {
      "cell_type": "markdown",
      "metadata": {
        "id": "Iu5o47Mi_OzR"
      },
      "source": [
        "## 2) 기출문제"
      ]
    },
    {
      "cell_type": "code",
      "metadata": {
        "colab": {
          "base_uri": "https://localhost:8080/"
        },
        "id": "xC5mQBOK_SC5",
        "outputId": "aa076154-5fd7-4853-f2be-e86f49fdb1d7"
      },
      "source": [
        "# 7/19(월)\n",
        "# 7. 럭키 스트레이트\n",
        "\n",
        "score = input()\n",
        "split = int(len(score)/2)\n",
        "ford=0; back=0\n",
        "\n",
        "# 이걸 하나로 합칠 수 있는 방법은 없을까\n",
        "for i in range(split):\n",
        "  ford += int(score[i])\n",
        "for k in range(split,len(score)):\n",
        "  back += int(score[k])\n",
        "\n",
        "if ford==back:\n",
        "  print(\"LUCKY\")\n",
        "else:\n",
        "  print(\"READY\")"
      ],
      "execution_count": null,
      "outputs": [
        {
          "output_type": "stream",
          "text": [
            "123402\n",
            "LUCKY\n"
          ],
          "name": "stdout"
        }
      ]
    },
    {
      "cell_type": "code",
      "metadata": {
        "id": "7fEz19uzPDMN"
      },
      "source": [
        "# 7/20(화)\n",
        "# 8. 문자열 재정렬\n",
        "\n",
        "def reorder(value):\n",
        "  data = list(value)\n",
        "  num = 0\n",
        "  alpha =[]\n",
        "\n",
        "  for val in data:\n",
        "    if val.isdigit()==True: \n",
        "      num += int(val)\n",
        "    else: \n",
        "      alpha.append(val)\n",
        "    \n",
        "  result = \"\".join(sorted(alpha))+str(num)\n",
        "\n",
        "  return result"
      ],
      "execution_count": 37,
      "outputs": []
    },
    {
      "cell_type": "code",
      "metadata": {
        "colab": {
          "base_uri": "https://localhost:8080/"
        },
        "id": "CtCa_B2YVTyE",
        "outputId": "c559f984-07d1-44da-b005-5feb276de47e"
      },
      "source": [
        "print(reorder('K1KA5CB7'))\n",
        "print(reorder('AJKDLSI412K4JSJ9D'))"
      ],
      "execution_count": 38,
      "outputs": [
        {
          "output_type": "stream",
          "text": [
            "ABCKK13\n",
            "ADDIJJJKKLSS20\n"
          ],
          "name": "stdout"
        }
      ]
    }
  ]
}