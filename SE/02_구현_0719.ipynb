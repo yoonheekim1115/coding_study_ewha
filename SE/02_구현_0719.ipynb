{
  "nbformat": 4,
  "nbformat_minor": 0,
  "metadata": {
    "colab": {
      "name": "02. 구현_0719.ipynb",
      "provenance": [],
      "collapsed_sections": [],
      "authorship_tag": "ABX9TyNcmk2q9JYb7cm0Jjc8lhvf",
      "include_colab_link": true
    },
    "kernelspec": {
      "name": "python3",
      "display_name": "Python 3"
    }
  },
  "cells": [
    {
      "cell_type": "markdown",
      "metadata": {
        "id": "view-in-github",
        "colab_type": "text"
      },
      "source": [
        "<a href=\"https://colab.research.google.com/github/yoonheekim1115/coding_study_ewha/blob/main/SE/02_%EA%B5%AC%ED%98%84_0719.ipynb\" target=\"_parent\"><img src=\"https://colab.research.google.com/assets/colab-badge.svg\" alt=\"Open In Colab\"/></a>"
      ]
    },
    {
      "cell_type": "markdown",
      "metadata": {
        "id": "oLFfIyWPqhB1"
      },
      "source": [
        "# 2. 구현"
      ]
    },
    {
      "cell_type": "markdown",
      "metadata": {
        "id": "Enwo2NGMIz24"
      },
      "source": [
        "## 1) 개념정리 및 예제"
      ]
    },
    {
      "cell_type": "code",
      "metadata": {
        "id": "i8mXsdtHUDgc",
        "colab": {
          "base_uri": "https://localhost:8080/"
        },
        "outputId": "a0fd28dc-21c1-455a-912c-0d191c58aa8d"
      },
      "source": [
        "# 예제 4-1 상하좌우\n",
        "\n",
        "n = int(input())\n",
        "data = list(map(str, input().split()))\n",
        "\n",
        "x,y=1,1\n",
        "\n",
        "# L,R,U,D 순서대로 입력\n",
        "\n",
        "dx = [0,0,-1,1]\n",
        "dy = [-1,1,0,0]\n",
        "types = ['L','R','U','D']\n",
        "\n",
        "for i in range(len(data)):\n",
        "  nx = x+dx[types.index(data[i])] # 처음에 여기를 할당연산자를 사용했는데, 그렇게하면 안되나봄... \n",
        "  ny = y+dy[types.index(data[i])] \n",
        "  if nx<1 or ny<1 or nx>n or ny>n:\n",
        "    continue\n",
        "  \n",
        "  x=nx; y=ny\n",
        "\n",
        "print(x,y)  "
      ],
      "execution_count": 37,
      "outputs": [
        {
          "output_type": "stream",
          "text": [
            "5\n",
            "R R R U D D\n",
            "3 4\n"
          ],
          "name": "stdout"
        }
      ]
    },
    {
      "cell_type": "code",
      "metadata": {
        "colab": {
          "base_uri": "https://localhost:8080/"
        },
        "id": "czMuWgT4JNCH",
        "outputId": "89d010c5-56e4-4dbb-f806-84192b2ca6a2"
      },
      "source": [
        "# 예제 4-2 시각\n",
        "\n",
        "n = int(input())\n",
        "\n",
        "count=0\n",
        "\n",
        "for i in range(n+1):  \n",
        "  for j in range(60):\n",
        "    for k in range(60):\n",
        "      if i%10==3 or j%10==3 or j//10==3 or k%10==3 or k//10==3:\n",
        "        count += 1\n",
        "\n",
        "print(count)"
      ],
      "execution_count": 7,
      "outputs": [
        {
          "output_type": "stream",
          "text": [
            "5\n",
            "11475\n"
          ],
          "name": "stdout"
        }
      ]
    },
    {
      "cell_type": "code",
      "metadata": {
        "id": "xyROmzmZ-9IG"
      },
      "source": [
        "# 실전 1 - 왕실의 나이트\n",
        "# 경우의 수를 구하는 거. 위치가 중요하진 않음\n",
        "\n",
        "data = input()\n",
        "\n",
        "move=[(1,2),(2,1),(-1,2),(-2,1),(-1,-2),(-2,-1),(1,-2),(2,-1)]\n",
        "for \n",
        "\n",
        "\n",
        "\n",
        "\n",
        "\n"
      ],
      "execution_count": null,
      "outputs": []
    },
    {
      "cell_type": "code",
      "metadata": {
        "id": "xFcnWFpVA-8Q"
      },
      "source": [
        ""
      ],
      "execution_count": null,
      "outputs": []
    },
    {
      "cell_type": "markdown",
      "metadata": {
        "id": "Iu5o47Mi_OzR"
      },
      "source": [
        "## 2) 기출문제"
      ]
    },
    {
      "cell_type": "code",
      "metadata": {
        "colab": {
          "base_uri": "https://localhost:8080/"
        },
        "id": "xC5mQBOK_SC5",
        "outputId": "0ffbf0ae-dcfb-41c6-c5d7-9419aa6ee52b"
      },
      "source": [
        "# 7/19(월)\n",
        "# 7. 럭키 스트레이트\n",
        "\n",
        "score = input()\n",
        "split = int(len(score)/2)\n",
        "ford=0; back=0\n",
        "\n",
        "# 이걸 하나로 합칠 수 있는 방법은 없을까\n",
        "for i in range(split):\n",
        "  ford += int(score[i])\n",
        "for k in range(split,len(score)):\n",
        "  back += int(score[k])\n",
        "\n",
        "if ford==back:\n",
        "  print(\"LUCKY\")\n",
        "else:\n",
        "  print(\"READY\")"
      ],
      "execution_count": 11,
      "outputs": [
        {
          "output_type": "stream",
          "text": [
            "7755\n",
            "READY\n"
          ],
          "name": "stdout"
        }
      ]
    }
  ]
}