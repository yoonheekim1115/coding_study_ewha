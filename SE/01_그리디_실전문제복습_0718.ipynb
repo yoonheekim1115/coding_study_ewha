{
  "nbformat": 4,
  "nbformat_minor": 0,
  "metadata": {
    "colab": {
      "name": "01. 그리디_실전문제복습_0718.ipynb",
      "provenance": [],
      "collapsed_sections": [],
      "authorship_tag": "ABX9TyOSYC57PDIduFF3AFBfH4af",
      "include_colab_link": true
    },
    "kernelspec": {
      "name": "python3",
      "display_name": "Python 3"
    }
  },
  "cells": [
    {
      "cell_type": "markdown",
      "metadata": {
        "id": "view-in-github",
        "colab_type": "text"
      },
      "source": [
        "<a href=\"https://colab.research.google.com/github/yoonheekim1115/coding_study_ewha/blob/main/01_%EA%B7%B8%EB%A6%AC%EB%94%94_%EC%8B%A4%EC%A0%84%EB%AC%B8%EC%A0%9C%EB%B3%B5%EC%8A%B5_0718.ipynb\" target=\"_parent\"><img src=\"https://colab.research.google.com/assets/colab-badge.svg\" alt=\"Open In Colab\"/></a>"
      ]
    },
    {
      "cell_type": "markdown",
      "metadata": {
        "id": "oLFfIyWPqhB1"
      },
      "source": [
        "# 1. 그리디"
      ]
    },
    {
      "cell_type": "markdown",
      "metadata": {
        "id": "92_6LGqWI1vC"
      },
      "source": [
        "## 2) 기출문제 풀이"
      ]
    },
    {
      "cell_type": "markdown",
      "metadata": {
        "id": "Mnoomu1GFTMA"
      },
      "source": [
        "### 1. 모험가 길드"
      ]
    },
    {
      "cell_type": "code",
      "metadata": {
        "id": "u6tZZW8vI59L",
        "colab": {
          "base_uri": "https://localhost:8080/"
        },
        "outputId": "7e7a342b-44f6-44c9-df9a-99b58975c5dd"
      },
      "source": [
        "# 풀이\n",
        "# 망했어..\n",
        "\n",
        "n = input()\n",
        "value = list(map(int, input().split()))\n",
        "\n",
        "result = 0 # 그룹 수\n",
        "count = 0 # 그룹에 속하는 사람 수 (temporal)\n",
        "\n",
        "value.sort(reverse=True)\n",
        "\n",
        "for i in value:\n",
        "  if count < i:\n",
        "    count += 1\n",
        "  else:\n",
        "    result += 1\n",
        "    count = 0  \n",
        "\n",
        "print(result)  "
      ],
      "execution_count": 12,
      "outputs": [
        {
          "output_type": "stream",
          "text": [
            "5\n",
            "1 1 1 1 5\n",
            "2\n"
          ],
          "name": "stdout"
        }
      ]
    },
    {
      "cell_type": "markdown",
      "metadata": {
        "id": "Ath_rzCYFXqq"
      },
      "source": [
        "### 2. 곱하기 혹은 더하기"
      ]
    },
    {
      "cell_type": "code",
      "metadata": {
        "id": "GaFPoizmOz7U",
        "colab": {
          "base_uri": "https://localhost:8080/"
        },
        "outputId": "a6ea4e23-3a99-433a-ab11-ac8a7f40bba3"
      },
      "source": [
        "# 풀이\n",
        "\n",
        "data = list(map(int, input()))\n",
        "result = 1\n",
        "\n",
        "for i in range(len(data)):\n",
        "  if data[i]==0:\n",
        "    result += data[i]\n",
        "  elif data[i]==1: \n",
        "    result += data[i]\n",
        "  else:\n",
        "    result *= data[i]\n",
        "\n",
        "print(result)"
      ],
      "execution_count": 23,
      "outputs": [
        {
          "output_type": "stream",
          "text": [
            "105018010827071150\n",
            "348890\n"
          ],
          "name": "stdout"
        }
      ]
    },
    {
      "cell_type": "code",
      "metadata": {
        "colab": {
          "base_uri": "https://localhost:8080/"
        },
        "id": "VKLPXdhsUcNy",
        "outputId": "312a4746-9774-45b3-a3e7-14619ff7b268"
      },
      "source": [
        "print(summul('02984'))\n",
        "print(summul('567'))\n",
        "print(summul('105018010827071150'))"
      ],
      "execution_count": null,
      "outputs": [
        {
          "output_type": "stream",
          "text": [
            "576\n",
            "210\n",
            "156800\n"
          ],
          "name": "stdout"
        }
      ]
    },
    {
      "cell_type": "markdown",
      "metadata": {
        "id": "51G3FfHJFabP"
      },
      "source": [
        "### 3. 문자열 뒤집기"
      ]
    },
    {
      "cell_type": "code",
      "metadata": {
        "id": "_-352JPCXc-A",
        "colab": {
          "base_uri": "https://localhost:8080/"
        },
        "outputId": "d712b77e-472a-4a2a-8e9a-470f03f4cb66"
      },
      "source": [
        "# 풀이\n",
        "\n",
        "data = list(map(int, input()))\n",
        "count = [0,0]\n",
        "\n",
        "if data[0]==0:\n",
        "  count[0]=1\n",
        "elif data[0]==1:\n",
        "  count[1]=1\n",
        "\n",
        "for i in range(1,len(data)):\n",
        "  if data[i-1]!=data[i]:\n",
        "    count[data[i]] += 1\n",
        "\n",
        "print(min(count)) "
      ],
      "execution_count": 30,
      "outputs": [
        {
          "output_type": "stream",
          "text": [
            "0001100\n",
            "1\n"
          ],
          "name": "stdout"
        }
      ]
    },
    {
      "cell_type": "markdown",
      "metadata": {
        "id": "p59Qv2MTFcpi"
      },
      "source": [
        "### 4. 만들 수 없는 금액"
      ]
    },
    {
      "cell_type": "code",
      "metadata": {
        "colab": {
          "base_uri": "https://localhost:8080/"
        },
        "id": "x_O6szPTomRb",
        "outputId": "fb702571-6eb3-4a7d-90ee-f99e6c8f339b"
      },
      "source": [
        "# 풀이\n",
        "# 사실 이건 거의 외워버림..\n",
        "\n",
        "n = input()\n",
        "data = list(map(int, input().split()))\n",
        "\n",
        "data.sort()\n",
        "possible = 1 # 만들 수 없는 값의 후보\n",
        "\n",
        "for i in data:\n",
        "  if possible >= i:\n",
        "    possible += i\n",
        "  else:\n",
        "    break\n",
        "\n",
        "print(possible)\n"
      ],
      "execution_count": 36,
      "outputs": [
        {
          "output_type": "stream",
          "text": [
            "5\n",
            "2 3 1 1 9\n",
            "8\n"
          ],
          "name": "stdout"
        }
      ]
    },
    {
      "cell_type": "markdown",
      "metadata": {
        "id": "N2GLh8Q5Ffa_"
      },
      "source": [
        "### 5. 볼링공 고르기"
      ]
    },
    {
      "cell_type": "code",
      "metadata": {
        "colab": {
          "base_uri": "https://localhost:8080/"
        },
        "id": "UFIj4JXfomWC",
        "outputId": "964e2e6f-d9a3-4c33-e03a-4c555c27fd08"
      },
      "source": [
        "# 풀이\n",
        "\n",
        "n,m = map(int, input().split())\n",
        "data = list(map(int, input().split()))\n",
        "\n",
        "result = 0\n",
        "ball_weights = [0]*(m+1)\n",
        "\n",
        "for ball in data:\n",
        "  ball_weights[ball] += 1 #무게별로 개수세기\n",
        "\n",
        "for i in range(1,len(ball_weights)):\n",
        "  n -= ball_weights[i]\n",
        "  result += ball_weights[i]*n\n",
        "\n",
        "print(result)"
      ],
      "execution_count": 41,
      "outputs": [
        {
          "output_type": "stream",
          "text": [
            "8 5\n",
            "1 5 4 3 2 4 5 2\n",
            "25\n"
          ],
          "name": "stdout"
        }
      ]
    }
  ]
}
