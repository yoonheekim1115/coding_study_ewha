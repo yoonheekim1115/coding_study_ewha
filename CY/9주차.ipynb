{
 "cells": [
  {
   "cell_type": "markdown",
   "id": "d204246a",
   "metadata": {},
   "source": [
    "# Q41"
   ]
  },
  {
   "cell_type": "code",
   "execution_count": 29,
   "id": "c21e5702",
   "metadata": {},
   "outputs": [
    {
     "name": "stdout",
     "output_type": "stream",
     "text": [
      "5 4\n"
     ]
    }
   ],
   "source": [
    "n, m = map(int, input().split())"
   ]
  },
  {
   "cell_type": "code",
   "execution_count": 30,
   "id": "ae2fac89",
   "metadata": {},
   "outputs": [
    {
     "name": "stdout",
     "output_type": "stream",
     "text": [
      "0 1 0 1 0\n",
      "1 0 1 1 0\n",
      "0 1 0 0 0\n",
      "1 1 0 0 0\n",
      "0 0 0 0 0\n"
     ]
    }
   ],
   "source": [
    "array=[]\n",
    "for i in range(n):\n",
    "    a=list(map(int, input().split()))\n",
    "    array.append(a)"
   ]
  },
  {
   "cell_type": "code",
   "execution_count": 31,
   "id": "87448918",
   "metadata": {},
   "outputs": [
    {
     "name": "stdout",
     "output_type": "stream",
     "text": [
      "2 3 5 4\n"
     ]
    }
   ],
   "source": [
    "schedule=list(map(int, input().split()))"
   ]
  },
  {
   "cell_type": "code",
   "execution_count": 37,
   "id": "341cbdd3",
   "metadata": {},
   "outputs": [],
   "source": [
    "import copy\n",
    "graph=copy.deepcopy(array)\n",
    "INF=1e9\n",
    "for a in range(n):\n",
    "    for b in range(n):\n",
    "        if graph[a][b]==0:\n",
    "            graph[a][b]=INF\n",
    "            \n",
    "for k in range(0, n):\n",
    "    for a in range(0, n):\n",
    "        for b in range(0,n):\n",
    "            graph[a][b]=min(graph[a][b], graph[a][k]+graph[k][b])"
   ]
  },
  {
   "cell_type": "code",
   "execution_count": 38,
   "id": "36682cc9",
   "metadata": {},
   "outputs": [
    {
     "data": {
      "text/plain": [
       "[[2, 1, 2, 1, 1000000000.0],\n",
       " [1, 2, 1, 1, 1000000000.0],\n",
       " [2, 1, 2, 2, 1000000000.0],\n",
       " [1, 1, 2, 2, 1000000000.0],\n",
       " [1000000000.0, 1000000000.0, 1000000000.0, 1000000000.0, 1000000000.0]]"
      ]
     },
     "execution_count": 38,
     "metadata": {},
     "output_type": "execute_result"
    }
   ],
   "source": [
    "graph"
   ]
  },
  {
   "cell_type": "code",
   "execution_count": 39,
   "id": "4afe60ec",
   "metadata": {},
   "outputs": [
    {
     "name": "stdout",
     "output_type": "stream",
     "text": [
      "NO\n"
     ]
    }
   ],
   "source": [
    "count=0\n",
    "for i in range(len(schedule)-1):\n",
    "    if graph[schedule[i]-1][schedule[i+1]-1] != INF:\n",
    "        count+=1\n",
    "        \n",
    "if count==len(schedule)-1:\n",
    "    print('YES')\n",
    "else:\n",
    "    print('NO')"
   ]
  },
  {
   "cell_type": "code",
   "execution_count": 28,
   "id": "2a0ca1cd",
   "metadata": {},
   "outputs": [],
   "source": [
    "## 서로소 집합"
   ]
  },
  {
   "cell_type": "code",
   "execution_count": 40,
   "id": "342d7525",
   "metadata": {},
   "outputs": [
    {
     "name": "stdout",
     "output_type": "stream",
     "text": [
      "5 4\n"
     ]
    }
   ],
   "source": [
    "def find_parent(parent, x):\n",
    "    if parent[x]!=x:\n",
    "        parent[x]=find_parent(parent, parent[x]) \n",
    "    return parent[x]\n",
    "\n",
    "def union_parent(parent, a, b):\n",
    "    a=find_parent(parent, a)\n",
    "    b=find_parent(parent, b)\n",
    "    if a<b:\n",
    "        parent[b]=a\n",
    "    else:\n",
    "        parent[a]=b\n",
    "        \n",
    "n, m = map(int, input().split())\n",
    "parent=[0]*(n+1)"
   ]
  },
  {
   "cell_type": "code",
   "execution_count": 43,
   "id": "53b4bb14",
   "metadata": {},
   "outputs": [
    {
     "name": "stdout",
     "output_type": "stream",
     "text": [
      "0 1 0 1 0\n",
      "1 0 1 1 0\n",
      "0 1 0 0 0\n",
      "1 1 0 0 0\n",
      "0 0 0 0 0\n",
      "2 3 5 4\n",
      "NO\n"
     ]
    }
   ],
   "source": [
    "for i in range(n+1):\n",
    "    parent[i]=i\n",
    "    \n",
    "for i in range(n):\n",
    "    data=list(map(int, input().split()))\n",
    "    for j in range(n):\n",
    "        if data[j]==1:\n",
    "            union_parent(parent, i+1, j+1)\n",
    "            \n",
    "plan=list(map(int, input().split()))\n",
    "result=True\n",
    "for i in range(m-1):\n",
    "    if find_parent(parent, plan[i])!= find_parent(parent, plan[i+1]):\n",
    "        result=False\n",
    "if result:\n",
    "    print('YES')\n",
    "else:\n",
    "    print('NO')"
   ]
  },
  {
   "cell_type": "code",
   "execution_count": 44,
   "id": "828f182c",
   "metadata": {},
   "outputs": [
    {
     "data": {
      "text/plain": [
       "[0, 1, 1, 1, 1, 5]"
      ]
     },
     "execution_count": 44,
     "metadata": {},
     "output_type": "execute_result"
    }
   ],
   "source": [
    "parent"
   ]
  },
  {
   "cell_type": "markdown",
   "id": "fffdeb79",
   "metadata": {},
   "source": [
    "## Q42 탑승구"
   ]
  },
  {
   "cell_type": "code",
   "execution_count": 147,
   "id": "2948e5b2",
   "metadata": {},
   "outputs": [
    {
     "name": "stdout",
     "output_type": "stream",
     "text": [
      "3 3\n"
     ]
    }
   ],
   "source": [
    "g, p = map(int, input().split())"
   ]
  },
  {
   "cell_type": "code",
   "execution_count": 148,
   "id": "901b08a2",
   "metadata": {},
   "outputs": [],
   "source": [
    "parent=[0]*(g+1)"
   ]
  },
  {
   "cell_type": "code",
   "execution_count": 149,
   "id": "8fdd1b52",
   "metadata": {},
   "outputs": [
    {
     "name": "stdout",
     "output_type": "stream",
     "text": [
      "3\n",
      "2\n",
      "3\n"
     ]
    }
   ],
   "source": [
    "plan=[]\n",
    "for i in range(p):\n",
    "    plan.append(int(input()))"
   ]
  },
  {
   "cell_type": "code",
   "execution_count": 150,
   "id": "18ee4e19",
   "metadata": {},
   "outputs": [],
   "source": [
    "def airplain(x):\n",
    "    if parent[x]==0:\n",
    "        parent[x]=1\n",
    "    else:\n",
    "        if x-1>0:\n",
    "            airplain(x-1)\n",
    "    return parent"
   ]
  },
  {
   "cell_type": "code",
   "execution_count": 151,
   "id": "3d2e21ec",
   "metadata": {},
   "outputs": [
    {
     "name": "stdout",
     "output_type": "stream",
     "text": [
      "3\n"
     ]
    }
   ],
   "source": [
    "for i in range(len(plan)):\n",
    "    airplain(plan[i])\n",
    "    if sum(parent)<=i:\n",
    "        break\n",
    "print(sum(parent))"
   ]
  },
  {
   "cell_type": "code",
   "execution_count": 152,
   "id": "9d71453f",
   "metadata": {},
   "outputs": [
    {
     "data": {
      "text/plain": [
       "[0, 1, 1, 1]"
      ]
     },
     "execution_count": 152,
     "metadata": {},
     "output_type": "execute_result"
    }
   ],
   "source": [
    "parent"
   ]
  },
  {
   "cell_type": "markdown",
   "id": "bf8030e4",
   "metadata": {},
   "source": [
    "## Q43 어두운 길 "
   ]
  },
  {
   "cell_type": "code",
   "execution_count": 157,
   "id": "84c48990",
   "metadata": {},
   "outputs": [
    {
     "name": "stdout",
     "output_type": "stream",
     "text": [
      "7 11\n",
      "0 1 7\n",
      "0 3 5\n",
      "1 2 8\n",
      "1 3 9\n",
      "1 4 7\n",
      "2 4 5\n",
      "3 4 15\n",
      "3 5 6\n",
      "4 5 8\n",
      "4 6 9\n",
      "5 6 11\n",
      "51\n"
     ]
    }
   ],
   "source": [
    "def find_parent(parent, x):\n",
    "    if parent[x]!=x:\n",
    "        parent[x]=find_parent(parent, parent[x]) \n",
    "    return parent[x]\n",
    "\n",
    "def union_parent(parent, a, b):\n",
    "    a=find_parent(parent, a)\n",
    "    b=find_parent(parent, b)\n",
    "    if a<b:\n",
    "        parent[b]=a\n",
    "    else:\n",
    "        parent[a]=b\n",
    "        \n",
    "v,e=map(int, input().split())\n",
    "parent=[0]*(v+1)\n",
    "\n",
    "edges=[]\n",
    "result=0\n",
    "\n",
    "for i in range(1, v+1):\n",
    "    parent[i]=i\n",
    "    \n",
    "for _ in range(e):\n",
    "    a, b , cost=map(int, input().split())\n",
    "    edges.append((cost, a, b))\n",
    "    \n",
    "edges.sort()\n",
    "total_cost=0\n",
    "for edge in edges:\n",
    "    cost, a, b = edge\n",
    "    total_cost+=cost\n",
    "    if find_parent(parent, a) != find_parent(parent, b):\n",
    "        union_parent(parent, a, b)\n",
    "        result+= cost\n",
    "        \n",
    "print(total_cost-result)"
   ]
  },
  {
   "cell_type": "markdown",
   "id": "ec0413e0",
   "metadata": {},
   "source": [
    "## Q44 행성터널"
   ]
  },
  {
   "cell_type": "code",
   "execution_count": 1,
   "id": "222db621",
   "metadata": {},
   "outputs": [
    {
     "name": "stdout",
     "output_type": "stream",
     "text": [
      "5\n"
     ]
    }
   ],
   "source": [
    "n=int(input())"
   ]
  },
  {
   "cell_type": "code",
   "execution_count": 13,
   "id": "dcf01234",
   "metadata": {},
   "outputs": [
    {
     "name": "stdout",
     "output_type": "stream",
     "text": [
      "11 -15 -15\n",
      "14 -5 -15\n",
      "-1 -1 -5\n",
      "10 -4 -1\n",
      "19 -4 19\n"
     ]
    }
   ],
   "source": [
    "edges=[]\n",
    "for _ in range(n):\n",
    "    x, y, z=map(int, input().split())\n",
    "    edges.append((x, y, z))"
   ]
  },
  {
   "cell_type": "code",
   "execution_count": 14,
   "id": "e27d221a",
   "metadata": {},
   "outputs": [],
   "source": [
    "from itertools import combinations"
   ]
  },
  {
   "cell_type": "code",
   "execution_count": 15,
   "id": "0d15433f",
   "metadata": {},
   "outputs": [],
   "source": [
    "mapping=list(combinations(range(n), 2))"
   ]
  },
  {
   "cell_type": "code",
   "execution_count": 18,
   "id": "c1e570fc",
   "metadata": {},
   "outputs": [],
   "source": [
    "edge=[]\n",
    "for maps in mapping:\n",
    "    a, b= maps\n",
    "    cost=min(abs(edges[a][0]-edges[b][0]),abs(edges[a][1]-edges[b][1]),abs(edges[a][2]-edges[b][2]))\n",
    "    edge.append((cost, a, b))"
   ]
  },
  {
   "cell_type": "code",
   "execution_count": 36,
   "id": "ad941cdd",
   "metadata": {},
   "outputs": [
    {
     "name": "stdout",
     "output_type": "stream",
     "text": [
      "4\n"
     ]
    }
   ],
   "source": [
    "def find_parent(parent, x):\n",
    "    if parent[x]!=x:\n",
    "        parent[x]=find_parent(parent, parent[x]) \n",
    "    return parent[x]\n",
    "\n",
    "def union_parent(parent, a, b):\n",
    "    a=find_parent(parent, a)\n",
    "    b=find_parent(parent, b)\n",
    "    if a<b:\n",
    "        parent[b]=a\n",
    "    else:\n",
    "        parent[a]=b\n",
    "        \n",
    "parent=[0]*(n+1)\n",
    "for i in range(1, n+1):\n",
    "    parent[i]=i\n",
    "result=0\n",
    "edge.sort()\n",
    "count=0\n",
    "for edg in edge:\n",
    "    cost, a, b = edg\n",
    "    if find_parent(parent, a) != find_parent(parent, b):\n",
    "        union_parent(parent, a, b)\n",
    "        result+= cost\n",
    "        count+=1\n",
    "    if count==n:\n",
    "        break\n",
    "        \n",
    "print(result)"
   ]
  },
  {
   "cell_type": "code",
   "execution_count": null,
   "id": "7fa5e2be",
   "metadata": {},
   "outputs": [],
   "source": []
  }
 ],
 "metadata": {
  "kernelspec": {
   "display_name": "Python 3",
   "language": "python",
   "name": "python3"
  },
  "language_info": {
   "codemirror_mode": {
    "name": "ipython",
    "version": 3
   },
   "file_extension": ".py",
   "mimetype": "text/x-python",
   "name": "python",
   "nbconvert_exporter": "python",
   "pygments_lexer": "ipython3",
   "version": "3.9.4"
  }
 },
 "nbformat": 4,
 "nbformat_minor": 5
}
