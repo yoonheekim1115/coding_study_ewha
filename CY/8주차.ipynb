{
 "cells": [
  {
   "cell_type": "markdown",
   "id": "4e304aec",
   "metadata": {},
   "source": [
    "# 그래프 이론"
   ]
  },
  {
   "cell_type": "markdown",
   "id": "557ff3a2",
   "metadata": {},
   "source": [
    "## 10-1"
   ]
  },
  {
   "cell_type": "code",
   "execution_count": 7,
   "id": "82228ce0",
   "metadata": {},
   "outputs": [
    {
     "name": "stdout",
     "output_type": "stream",
     "text": [
      "6 4\n",
      "1 4\n",
      "2 3\n",
      "2 4\n",
      "5 6\n",
      "각 원소가 속한 집합:  1 1 1 1 5 5 \n",
      "부모 테이블:  1 1 2 1 5 5 "
     ]
    }
   ],
   "source": [
    "def find_parent(parent, x):\n",
    "    if parent[x]!=x:\n",
    "        parent[x]=find_parent(parent, parent[x]) ## 여기 수정\n",
    "    return parent[x]\n",
    "\n",
    "def union_parent(parent, a, b):\n",
    "    a=find_parent(parent, a)\n",
    "    b=find_parent(parent, b)\n",
    "    if a<b:\n",
    "        parent[b]=a\n",
    "    else:\n",
    "        parent[a]=b\n",
    "        \n",
    "v,e=map(int, input().split())\n",
    "parent=[0]*(v+1)\n",
    "\n",
    "for i in range(1, v+1):\n",
    "    parent[i]=i\n",
    "    \n",
    "for i in range(e):\n",
    "    a, b=map(int, input().split())\n",
    "    union_parent(parent, a,b)\n",
    "    \n",
    "print('각 원소가 속한 집합: ', end=' ')\n",
    "for i in range(1, v+1):\n",
    "    print(find_parent(parent, i), end=' ')\n",
    "    \n",
    "print()\n",
    "print('부모 테이블: ', end=' ')\n",
    "for i in range(1, v+1):\n",
    "    print(parent[i], end=' ')"
   ]
  },
  {
   "cell_type": "markdown",
   "id": "aac52c42",
   "metadata": {},
   "source": [
    "## 10-4"
   ]
  },
  {
   "cell_type": "code",
   "execution_count": 10,
   "id": "2459ca76",
   "metadata": {},
   "outputs": [
    {
     "name": "stdout",
     "output_type": "stream",
     "text": [
      "3 3\n",
      "1 2\n",
      "1 3\n",
      "2 3\n",
      "사이클이 발생했습니다.\n"
     ]
    }
   ],
   "source": [
    "def find_parent(parent, x):\n",
    "    if parent[x]!=x:\n",
    "        parent[x]=find_parent(parent, parent[x]) ## 여기 수정\n",
    "    return parent[x]\n",
    "\n",
    "\n",
    "def union_parent(parent, a, b):\n",
    "    a=find_parent(parent, a)\n",
    "    b=find_parent(parent, b)\n",
    "    if a<b:\n",
    "        parent[b]=a\n",
    "    else:\n",
    "        parent[a]=b\n",
    "        \n",
    "v,e=map(int, input().split())\n",
    "parent=[0]*(v+1)\n",
    "\n",
    "for i in range(1, v+1):\n",
    "    parent[i]=i\n",
    "    \n",
    "cycle=False\n",
    "for i in range(e):\n",
    "    a, b=map(int, input().split())\n",
    "    if find_parent(parent,a)==find_parent(parent, b):\n",
    "        cycle=True\n",
    "        break\n",
    "    else:\n",
    "        union_parent(parent, a, b)\n",
    "if cycle:\n",
    "    print('사이클이 발생했습니다.')\n",
    "else:\n",
    "    print('사이클이 발생하지 않았습니다.')"
   ]
  },
  {
   "cell_type": "code",
   "execution_count": 11,
   "id": "e7e16dd3",
   "metadata": {},
   "outputs": [
    {
     "data": {
      "text/plain": [
       "[0, 1, 1, 1]"
      ]
     },
     "execution_count": 11,
     "metadata": {},
     "output_type": "execute_result"
    }
   ],
   "source": [
    "parent"
   ]
  },
  {
   "cell_type": "markdown",
   "id": "eb97f45f",
   "metadata": {},
   "source": [
    "## 신장트리\n",
    "#### 모든 노드를 포함하면서 사이클이 존재하지 않는 부분 그래프를 의미"
   ]
  },
  {
   "cell_type": "code",
   "execution_count": 12,
   "id": "1d9f78e3",
   "metadata": {},
   "outputs": [],
   "source": [
    "## 크루즈칼 알고리즘"
   ]
  },
  {
   "cell_type": "code",
   "execution_count": 16,
   "id": "f08c0ad2",
   "metadata": {},
   "outputs": [
    {
     "name": "stdout",
     "output_type": "stream",
     "text": [
      "7 9\n",
      "1 2 29\n",
      "1 5 75\n",
      "2 3 35\n",
      "2 6 34\n",
      "3 4 7\n",
      "4 6 23\n",
      "4 7 13\n",
      "5 6 53\n",
      "6 7 25\n",
      "159\n"
     ]
    }
   ],
   "source": [
    "def find_parent(parent, x):\n",
    "    if parent[x]!=x:\n",
    "        parent[x]=find_parent(parent, parent[x]) \n",
    "    return parent[x]\n",
    "\n",
    "def union_parent(parent, a, b):\n",
    "    a=find_parent(parent, a)\n",
    "    b=find_parent(parent, b)\n",
    "    if a<b:\n",
    "        parent[b]=a\n",
    "    else:\n",
    "        parent[a]=b\n",
    "        \n",
    "v,e=map(int, input().split())\n",
    "parent=[0]*(v+1)\n",
    "\n",
    "edges=[]\n",
    "result=0\n",
    "\n",
    "for i in range(1, v+1):\n",
    "    parent[i]=i\n",
    "    \n",
    "for _ in range(e):\n",
    "    a, b , cost=map(int, input().split())\n",
    "    edges.append((cost, a, b))\n",
    "    \n",
    "edges.sort()\n",
    "for edge in edges:\n",
    "    cost, a, b = edge\n",
    "    if find_parent(parent, a) != find_parent(parent, b):\n",
    "        union_parent(parent, a, b)\n",
    "        result+= cost\n",
    "        \n",
    "print(result)"
   ]
  },
  {
   "cell_type": "code",
   "execution_count": 17,
   "id": "76d792c2",
   "metadata": {},
   "outputs": [
    {
     "data": {
      "text/plain": [
       "[0, 1, 1, 1, 3, 1, 1, 3]"
      ]
     },
     "execution_count": 17,
     "metadata": {},
     "output_type": "execute_result"
    }
   ],
   "source": [
    "parent"
   ]
  },
  {
   "cell_type": "code",
   "execution_count": 18,
   "id": "a6f4097c",
   "metadata": {},
   "outputs": [],
   "source": [
    "## 위상정렬"
   ]
  },
  {
   "cell_type": "code",
   "execution_count": 39,
   "id": "3611563f",
   "metadata": {},
   "outputs": [
    {
     "name": "stdout",
     "output_type": "stream",
     "text": [
      "7 8\n",
      "1 2\n",
      "1 5\n",
      "2 3\n",
      "2 6\n",
      "3 4\n",
      "4 7\n",
      "5 6\n",
      "6 4\n"
     ]
    }
   ],
   "source": [
    "from collections import deque\n",
    "v, e = map(int, input().split())\n",
    "indegree=[0]*(v+1)\n",
    "graph=[[] for i in range(v+1)]\n",
    "\n",
    "for _ in range(e):\n",
    "    a, b= map(int, input().split())\n",
    "    graph[a].append(b)\n",
    "    indegree[b] += 1 "
   ]
  },
  {
   "cell_type": "code",
   "execution_count": 40,
   "id": "da666ecd",
   "metadata": {},
   "outputs": [
    {
     "name": "stdout",
     "output_type": "stream",
     "text": [
      "1 2 5 3 6 4 7 "
     ]
    }
   ],
   "source": [
    "def topology_sort():\n",
    "    result=[]\n",
    "    q=deque()\n",
    "    \n",
    "    for i in range(1,v+1):\n",
    "        if indegree[i]==0:\n",
    "            q.append(i)\n",
    "            \n",
    "    while q:\n",
    "        now=q.popleft()\n",
    "        result.append(now)\n",
    "        for i in graph[now]:\n",
    "            indegree[i]-=1\n",
    "            if indegree[i]==0:\n",
    "                q.append(i)\n",
    "                \n",
    "    for i in result:\n",
    "        print(i, end=' ')\n",
    "    \n",
    "topology_sort()"
   ]
  },
  {
   "cell_type": "markdown",
   "id": "eb16145d",
   "metadata": {},
   "source": [
    "## 팀 결성"
   ]
  },
  {
   "cell_type": "code",
   "execution_count": 45,
   "id": "871d3133",
   "metadata": {},
   "outputs": [
    {
     "name": "stdout",
     "output_type": "stream",
     "text": [
      "7 8\n",
      "0 1 3\n",
      "1 1 7\n",
      "0 7 6\n",
      "1 7 1\n",
      "0 3 7\n",
      "0 4 2\n",
      "0 1 1\n",
      "1 1 1\n"
     ]
    }
   ],
   "source": [
    "n, m =map(int, input().split())\n",
    "order=[]\n",
    "for _ in range(m):\n",
    "    cal, a, b = map(int, input().split())\n",
    "    order.append((cal, a,b))"
   ]
  },
  {
   "cell_type": "code",
   "execution_count": 42,
   "id": "222a0b92",
   "metadata": {},
   "outputs": [
    {
     "name": "stdout",
     "output_type": "stream",
     "text": [
      "NO\n",
      "NO\n",
      "YES\n"
     ]
    }
   ],
   "source": [
    "# 이건 내 코드\n",
    "student=[0]*(n+1)\n",
    "for i in range(1, n+1):\n",
    "    student[i]=i\n",
    "\n",
    "    \n",
    "for i in range(m):\n",
    "    cal , a, b= order[i]\n",
    "    if cal==0:\n",
    "        if a<b:\n",
    "            student[b]=a\n",
    "        else:\n",
    "            student[a]=b\n",
    "    if cal==1:\n",
    "        if student[a]==student[b]:\n",
    "            print('YES')\n",
    "        else:\n",
    "            print('NO')"
   ]
  },
  {
   "cell_type": "code",
   "execution_count": 54,
   "id": "714d13c7",
   "metadata": {},
   "outputs": [
    {
     "name": "stdout",
     "output_type": "stream",
     "text": [
      "NO\n",
      "NO\n",
      "YES\n"
     ]
    }
   ],
   "source": [
    "# 답안지 코드\n",
    "student=[0]*(n+1)\n",
    "for i in range(1, n+1):\n",
    "    student[i]=i\n",
    "\n",
    "def find_student(student, x):\n",
    "    if student[x]!=x:\n",
    "        student[x]=find_student(student, student[x]) \n",
    "    return student[x]\n",
    "\n",
    "def union_student(student, a, b):\n",
    "    a=find_student(student, a)\n",
    "    b=find_student(student, b)\n",
    "    if a<b:\n",
    "        student[b]=a\n",
    "    else:\n",
    "        student[a]=b\n",
    "\n",
    "for i in range(m):\n",
    "    cal , a, b= order[i]\n",
    "    if cal==0:\n",
    "        union_student(student, a, b)\n",
    "    elif cal==1:\n",
    "        if find_student(student, a)==find_student(student, b):\n",
    "            print('YES')\n",
    "        else:\n",
    "            print('NO')\n",
    "        "
   ]
  },
  {
   "cell_type": "markdown",
   "id": "2d08692b",
   "metadata": {},
   "source": [
    "## 도시분할 계획"
   ]
  },
  {
   "cell_type": "code",
   "execution_count": 62,
   "id": "58c63eaa",
   "metadata": {},
   "outputs": [
    {
     "name": "stdout",
     "output_type": "stream",
     "text": [
      "7 12\n",
      "1 2 3\n",
      "1 3 2\n",
      "3 2 1\n",
      "2 5 2\n",
      "3 4 4\n",
      "7 3 6\n",
      "5 1 5\n",
      "1 6 2\n",
      "6 5 3\n",
      "6 4 1\n",
      "4 5 3\n",
      "6 7 4\n",
      "8\n"
     ]
    }
   ],
   "source": [
    "def find_parent(parent, x):\n",
    "    if parent[x]!=x:\n",
    "        parent[x]=find_parent(parent, parent[x]) \n",
    "    return parent[x]\n",
    "\n",
    "def union_parent(parent, a, b):\n",
    "    a=find_parent(parent, a)\n",
    "    b=find_parent(parent, b)\n",
    "    if a<b:\n",
    "        parent[b]=a\n",
    "    else:\n",
    "        parent[a]=b\n",
    "        \n",
    "v,e=map(int, input().split())\n",
    "parent=[0]*(v+1)\n",
    "for i in range(1, v+1):\n",
    "    parent[i]=i\n",
    "    \n",
    "edges=[]\n",
    "\n",
    "for _ in range(e):\n",
    "    a, b, cost=map(int, input().split())\n",
    "    edges.append((cost,a,b))\n",
    "    \n",
    "edges.sort()\n",
    "result=0\n",
    "last=0\n",
    "\n",
    "for edge in edges:\n",
    "    cost, a, b = edge\n",
    "    if find_parent(parent, a) != find_parent(parent, b):\n",
    "        union_parent(parent, a, b)\n",
    "        result+=cost\n",
    "        last=cost\n",
    "        \n",
    "print(result-last)"
   ]
  },
  {
   "cell_type": "markdown",
   "id": "4351a0c9",
   "metadata": {},
   "source": [
    "## 커리큘럼"
   ]
  },
  {
   "cell_type": "code",
   "execution_count": 67,
   "id": "9c02da8d",
   "metadata": {},
   "outputs": [
    {
     "name": "stdout",
     "output_type": "stream",
     "text": [
      "5\n",
      "10 -1\n",
      "10 1 -1\n",
      "4 1 -1\n",
      "4 3 1 -1\n",
      "3 3 -1\n",
      "10 20 14 18 17 "
     ]
    }
   ],
   "source": [
    "from collections import deque\n",
    "import copy\n",
    "\n",
    "\n",
    "v=int(input())\n",
    "indegree=[0]*(v+1)\n",
    "graph=[[] for i in range(v+1)]\n",
    "time=[0]*(v+1)\n",
    "\n",
    "for i in range(1, v+1):\n",
    "    data=list(map(int, input().split()))\n",
    "    time[i]=data[0]\n",
    "    for x in data[1:-1]:\n",
    "        indegree[i] +=1\n",
    "        graph[x].append(i)\n",
    "        \n",
    "def topology_sort():\n",
    "    result=copy.deepcopy(time)\n",
    "    q=deque()\n",
    "    \n",
    "    for i in range(1,v+1):\n",
    "        if indegree[i]==0:\n",
    "            q.append(i)\n",
    "            \n",
    "    while q:\n",
    "        now=q.popleft()\n",
    "        result.append(now)\n",
    "        for i in graph[now]:\n",
    "            result[i]=max(result[i], result[now]+time[i])\n",
    "            indegree[i]-=1\n",
    "            if indegree[i]==0:\n",
    "                q.append(i)\n",
    "                \n",
    "    for i in range(1, v+1):\n",
    "        print(result[i], end=' ')\n",
    "    \n",
    "topology_sort()        "
   ]
  },
  {
   "cell_type": "markdown",
   "id": "e3bbe0a7",
   "metadata": {},
   "source": [
    "## Q35"
   ]
  },
  {
   "cell_type": "code",
   "execution_count": 52,
   "id": "7eef46c2",
   "metadata": {},
   "outputs": [
    {
     "name": "stdout",
     "output_type": "stream",
     "text": [
      "10\n"
     ]
    }
   ],
   "source": [
    "n=int(input())"
   ]
  },
  {
   "cell_type": "code",
   "execution_count": 55,
   "id": "67e80fcb",
   "metadata": {},
   "outputs": [
    {
     "name": "stdout",
     "output_type": "stream",
     "text": [
      "12\n"
     ]
    }
   ],
   "source": [
    "ugly=[0]*n\n",
    "ugly[0]=1\n",
    "i2=i3=i5=0\n",
    "next2, next3, next5 = 2,3,5\n",
    "\n",
    "\n",
    "for s in range(1,n):\n",
    "    ugly[s] = min(next2, next3, next5)\n",
    "    if ugly[s] == next2:\n",
    "        i2 += 1\n",
    "        next2 = ugly[i2] *2 \n",
    "    if ugly[s] == next3:\n",
    "        i3 += 1\n",
    "        next3 = ugly[i3] *3 \n",
    "    if ugly[s] == next5:\n",
    "        i5 += 1\n",
    "        next5=ugly[i5]*5\n",
    "        \n",
    "print(ugly[n-1])"
   ]
  },
  {
   "cell_type": "code",
   "execution_count": 56,
   "id": "f912f88b",
   "metadata": {},
   "outputs": [
    {
     "data": {
      "text/plain": [
       "[1, 2, 3, 4, 5, 6, 8, 9, 10, 12]"
      ]
     },
     "execution_count": 56,
     "metadata": {},
     "output_type": "execute_result"
    }
   ],
   "source": [
    "ugly"
   ]
  },
  {
   "cell_type": "markdown",
   "id": "3242d8bd",
   "metadata": {},
   "source": [
    "## Q37"
   ]
  },
  {
   "cell_type": "code",
   "execution_count": 64,
   "id": "03887ffb",
   "metadata": {},
   "outputs": [
    {
     "name": "stdout",
     "output_type": "stream",
     "text": [
      "5 \n",
      "14\n",
      "1 2 2 \n",
      "1 3 3\n",
      "1 4 1\n",
      "1 5 10\n",
      "2 4 2\n",
      "3 4 1\n",
      "3 5 1\n",
      "4 5 3\n",
      "3 5 10\n",
      "3 1 8\n",
      "1 4 2\n",
      "5 1 7\n",
      "3 4 2\n",
      "5 2 4\n"
     ]
    }
   ],
   "source": [
    "n=int(input())\n",
    "m=int(input())\n",
    "\n",
    "\n",
    "INF=1e9\n",
    "graph=[[INF]*(n+1) for _ in range(n+1)]\n",
    "for a in range(1, n+1):\n",
    "    for b in range(1, n+1):\n",
    "        if a==b:\n",
    "            graph[a][b]=0\n",
    "            \n",
    "for _ in range(m):\n",
    "    a, b, cost=map(int, input().split())\n",
    "    graph[a][b]=min(graph[a][b], cost)"
   ]
  },
  {
   "cell_type": "code",
   "execution_count": 66,
   "id": "952b036f",
   "metadata": {},
   "outputs": [
    {
     "name": "stdout",
     "output_type": "stream",
     "text": [
      "0 2 3 1 4 \n",
      "12 0 15 2 5 \n",
      "8 5 0 1 1 \n",
      "10 7 13 0 3 \n",
      "7 4 10 6 0 \n"
     ]
    }
   ],
   "source": [
    "for k in range(1, n+1):\n",
    "    for a in range(1, n+1):\n",
    "        for b in range(1,n+1):\n",
    "            graph[a][b]=min(graph[a][b], graph[a][k]+graph[k][b])\n",
    "\n",
    "for a in range(1, n+1):\n",
    "    for b in range(1, n+1):\n",
    "        if graph[a][b]==INF:\n",
    "            print(0, end=' ')\n",
    "        else:\n",
    "            print(graph[a][b], end=' ')\n",
    "    print()"
   ]
  },
  {
   "cell_type": "markdown",
   "id": "9f585671",
   "metadata": {},
   "source": [
    "## Q38"
   ]
  },
  {
   "cell_type": "code",
   "execution_count": 75,
   "id": "0e09bad2",
   "metadata": {},
   "outputs": [
    {
     "name": "stdout",
     "output_type": "stream",
     "text": [
      "6 6\n"
     ]
    }
   ],
   "source": [
    "n, m = map(int,input().split())"
   ]
  },
  {
   "cell_type": "code",
   "execution_count": 76,
   "id": "20efd532",
   "metadata": {},
   "outputs": [
    {
     "name": "stdout",
     "output_type": "stream",
     "text": [
      "1 5\n",
      "3 4\n",
      "4 2\n",
      "4 6\n",
      "5 2\n",
      "5 4\n",
      "1\n"
     ]
    }
   ],
   "source": [
    "INF=1e9\n",
    "graph=[[INF]*(n+1) for _ in range(n+1)]\n",
    "for a in range(1, n+1):\n",
    "    for b in range(1, n+1):\n",
    "        if a==b:\n",
    "            graph[a][b]=0\n",
    "            \n",
    "for _ in range(m):\n",
    "    a, b=map(int, input().split())\n",
    "    graph[a][b]=1\n",
    "    \n",
    "for k in range(1, n+1):\n",
    "    for a in range(1, n+1):\n",
    "        for b in range(1,n+1):\n",
    "            graph[a][b]=min(graph[a][b], graph[a][k]+graph[k][b])\n",
    "            \n",
    "result=0\n",
    "for i in range(1, n+1):\n",
    "    count=0\n",
    "    for j in range(1, n+1):\n",
    "        if graph[i][j]!= INF or graph[j][i] != INF:\n",
    "            count+=1\n",
    "    if count==n:\n",
    "        result+=1\n",
    "print(result)"
   ]
  },
  {
   "cell_type": "markdown",
   "id": "aede705f",
   "metadata": {},
   "source": [
    "## Q40"
   ]
  },
  {
   "cell_type": "code",
   "execution_count": 77,
   "id": "5290a1ba",
   "metadata": {},
   "outputs": [
    {
     "name": "stdout",
     "output_type": "stream",
     "text": [
      "6 7\n"
     ]
    }
   ],
   "source": [
    "n, m = map(int, input().split())"
   ]
  },
  {
   "cell_type": "code",
   "execution_count": 80,
   "id": "1010adda",
   "metadata": {},
   "outputs": [
    {
     "name": "stdout",
     "output_type": "stream",
     "text": [
      "3 6\n",
      "4 3\n",
      "3 2\n",
      "1 3\n",
      "1 2\n",
      "2 4\n",
      "5 2\n"
     ]
    }
   ],
   "source": [
    "INF=1e9\n",
    "graph=[[INF]*(n+1) for _ in range(n+1)]\n",
    "for a in range(1, n+1):\n",
    "    for b in range(1, n+1):\n",
    "        if a==b:\n",
    "            graph[a][b]=0\n",
    "            \n",
    "for _ in range(m):\n",
    "    a, b=map(int, input().split())\n",
    "    graph[a][b]=1\n",
    "    graph[b][a]=1\n",
    "    \n",
    "for k in range(1, n+1):\n",
    "    for a in range(1, n+1):\n",
    "        for b in range(1,n+1):\n",
    "            graph[a][b]=min(graph[a][b], graph[a][k]+graph[k][b])\n",
    "            "
   ]
  },
  {
   "cell_type": "code",
   "execution_count": 89,
   "id": "29832de8",
   "metadata": {},
   "outputs": [
    {
     "name": "stdout",
     "output_type": "stream",
     "text": [
      "4 2 3\n"
     ]
    }
   ],
   "source": [
    "import copy\n",
    "result=copy.deepcopy(graph[1])\n",
    "for i in range(len(result)):\n",
    "    if result[i]==INF:\n",
    "        result[i]=-1\n",
    "print(result.index(max(result)),max(result), result.count(max(result)))"
   ]
  },
  {
   "cell_type": "code",
   "execution_count": 94,
   "id": "2445b5a1",
   "metadata": {},
   "outputs": [
    {
     "name": "stdout",
     "output_type": "stream",
     "text": [
      "6 7\n",
      "3 6\n",
      "4 3\n",
      "3 2\n",
      "1 3\n",
      "1 2\n",
      "2 4\n",
      "5 2\n"
     ]
    }
   ],
   "source": [
    "### 책 풀이 \n",
    "import heapq\n",
    "n, m = map(int, input().split())\n",
    "INF=1e9\n",
    "start=1\n",
    "graph=[[]*(n+1) for _ in range(n+1)]\n",
    "distance=[INF]*(n+1)\n",
    "\n",
    "for _ in range(m):\n",
    "    a, b=map(int, input().split())\n",
    "    graph[a].append((b,1))\n",
    "    graph[b].append((a,1))\n",
    "\n",
    "def dijkstra(start):\n",
    "    q=[]\n",
    "    heapq.heappush(q, (0,start))\n",
    "    distance[start]=0\n",
    "    while q:\n",
    "        dist, now=heapq.heappop(q)\n",
    "        if distance[now]<dist:\n",
    "            continue\n",
    "        for i in graph[now]:\n",
    "            cost=dist+i[1]\n",
    "            if cost<distance[i[0]]:\n",
    "                distance[i[0]]=cost\n",
    "                heapq.heappush(q, (cost,i[0]))\n",
    "                \n",
    "dijkstra(start)"
   ]
  },
  {
   "cell_type": "code",
   "execution_count": 96,
   "id": "a62fc5ce",
   "metadata": {},
   "outputs": [
    {
     "name": "stdout",
     "output_type": "stream",
     "text": [
      "4 2 3\n"
     ]
    }
   ],
   "source": [
    "for i in range(len(distance)):\n",
    "    if distance[i]==INF:\n",
    "        distance[i]=-1\n",
    "print(distance.index(max(distance)),max(distance), distance.count(max(distance)))"
   ]
  },
  {
   "cell_type": "code",
   "execution_count": null,
   "id": "0fd190bb",
   "metadata": {},
   "outputs": [],
   "source": []
  }
 ],
 "metadata": {
  "kernelspec": {
   "display_name": "Python 3",
   "language": "python",
   "name": "python3"
  },
  "language_info": {
   "codemirror_mode": {
    "name": "ipython",
    "version": 3
   },
   "file_extension": ".py",
   "mimetype": "text/x-python",
   "name": "python",
   "nbconvert_exporter": "python",
   "pygments_lexer": "ipython3",
   "version": "3.9.4"
  }
 },
 "nbformat": 4,
 "nbformat_minor": 5
}
