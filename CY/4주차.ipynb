{
 "cells": [
  {
   "cell_type": "markdown",
   "id": "5a3e86c6",
   "metadata": {},
   "source": [
    "## 6-1"
   ]
  },
  {
   "cell_type": "code",
   "execution_count": 2,
   "id": "c8c5228b",
   "metadata": {},
   "outputs": [],
   "source": [
    "array=[7,5,9,0,3,1,6,2,4,8]"
   ]
  },
  {
   "cell_type": "code",
   "execution_count": 3,
   "id": "76126f39",
   "metadata": {},
   "outputs": [
    {
     "name": "stdout",
     "output_type": "stream",
     "text": [
      "[0, 1, 2, 3, 4, 5, 6, 7, 8, 9]\n"
     ]
    }
   ],
   "source": [
    "for i in range(len(array)):\n",
    "    min_index=i\n",
    "    for j in range(i+1, len(array)):\n",
    "        if array[min_index]>array[j]:\n",
    "            min_index=j\n",
    "    array[i],array[min_index]=array[min_index],array[i]\n",
    "print(array)"
   ]
  },
  {
   "cell_type": "markdown",
   "id": "eb7f09d6",
   "metadata": {},
   "source": [
    "## 6-3"
   ]
  },
  {
   "cell_type": "code",
   "execution_count": 12,
   "id": "1f205f80",
   "metadata": {},
   "outputs": [],
   "source": [
    "array=[7,5,9,0,3,1,6,2,4,8]"
   ]
  },
  {
   "cell_type": "code",
   "execution_count": 13,
   "id": "412e640a",
   "metadata": {},
   "outputs": [
    {
     "name": "stdout",
     "output_type": "stream",
     "text": [
      "[0, 1, 2, 3, 4, 5, 6, 7, 8, 9]\n"
     ]
    }
   ],
   "source": [
    "for i in range(1,len(array)):\n",
    "    for j in range(i, 0, -1):\n",
    "        if array[j]<array[j-1]:\n",
    "            array[j],array[j-1]=array[j-1],array[j]\n",
    "        else:\n",
    "            break\n",
    "print(array)"
   ]
  },
  {
   "cell_type": "markdown",
   "id": "1df10f89",
   "metadata": {},
   "source": [
    "## 6-5"
   ]
  },
  {
   "cell_type": "code",
   "execution_count": 15,
   "id": "bfb28a28",
   "metadata": {},
   "outputs": [],
   "source": [
    "array=[7,5,9,0,3,1,6,2,4,8]"
   ]
  },
  {
   "cell_type": "code",
   "execution_count": 16,
   "id": "95415711",
   "metadata": {},
   "outputs": [
    {
     "name": "stdout",
     "output_type": "stream",
     "text": [
      "[0, 1, 2, 3, 4, 5, 6, 7, 8, 9]\n"
     ]
    }
   ],
   "source": [
    "def quick_sort(array):\n",
    "    if len(array)<=1:\n",
    "        return array\n",
    "    pivot=array[0]\n",
    "    tail=array[1:]\n",
    "    \n",
    "    left_side=[x for x in tail if x<=pivot]\n",
    "    right_side=[x for x in tail if x> pivot]\n",
    "    \n",
    "    return quick_sort(left_side)+[pivot]+quick_sort(right_side)\n",
    "print(quick_sort(array))"
   ]
  },
  {
   "cell_type": "markdown",
   "id": "eea1e496",
   "metadata": {},
   "source": [
    "## 6-6"
   ]
  },
  {
   "cell_type": "code",
   "execution_count": 19,
   "id": "a092853e",
   "metadata": {},
   "outputs": [
    {
     "name": "stdout",
     "output_type": "stream",
     "text": [
      "0 0 1 2 2 3 4 5 5 6 7 8 9 "
     ]
    }
   ],
   "source": [
    "array=[7,5,9,0,3,1,6,2,4,8,0,5,2]\n",
    "count=[0]*(max(array)+1)\n",
    "for i in range(len(array)):\n",
    "    count[array[i]]+=1\n",
    "for i in range(len(count)):\n",
    "    for j in range(count[i]):\n",
    "        print(i, end=' ')"
   ]
  },
  {
   "cell_type": "markdown",
   "id": "c7bc34a9",
   "metadata": {},
   "source": [
    "## 6-9"
   ]
  },
  {
   "cell_type": "code",
   "execution_count": 22,
   "id": "32aef76d",
   "metadata": {},
   "outputs": [],
   "source": [
    "array=[('바나나',2),('사과',5),('당근',3)]"
   ]
  },
  {
   "cell_type": "code",
   "execution_count": 23,
   "id": "273a55cb",
   "metadata": {},
   "outputs": [
    {
     "name": "stdout",
     "output_type": "stream",
     "text": [
      "[('바나나', 2), ('당근', 3), ('사과', 5)]\n"
     ]
    }
   ],
   "source": [
    "def setting(data):\n",
    "    return data[1]\n",
    "result=sorted(array, key=setting)\n",
    "print(result)"
   ]
  },
  {
   "cell_type": "markdown",
   "id": "ebfc58d5",
   "metadata": {},
   "source": [
    "## 6-10"
   ]
  },
  {
   "cell_type": "code",
   "execution_count": 31,
   "id": "3aab5465",
   "metadata": {},
   "outputs": [
    {
     "name": "stdout",
     "output_type": "stream",
     "text": [
      "3\n",
      "27\n",
      "15\n",
      "12\n",
      "27 15 12 "
     ]
    }
   ],
   "source": [
    "n= int(input())\n",
    "result=[]\n",
    "for _ in range(n):\n",
    "    result.append(int(input()))\n",
    "result=sorted(result, reverse=True)\n",
    "for i in range(len(result)):\n",
    "    print(result[i], end=' ')"
   ]
  },
  {
   "cell_type": "markdown",
   "id": "817a42f8",
   "metadata": {},
   "source": [
    "## 6-11"
   ]
  },
  {
   "cell_type": "code",
   "execution_count": 33,
   "id": "d4a5b11f",
   "metadata": {},
   "outputs": [
    {
     "name": "stdout",
     "output_type": "stream",
     "text": [
      "2\n",
      "홍길동 95\n",
      "이순신 77\n"
     ]
    }
   ],
   "source": [
    "n=int(input())\n",
    "test=[]\n",
    "for _ in range(n):\n",
    "    name, score = input().split()\n",
    "    test.append((name, int(score)))"
   ]
  },
  {
   "cell_type": "code",
   "execution_count": 38,
   "id": "a11571a7",
   "metadata": {},
   "outputs": [
    {
     "name": "stdout",
     "output_type": "stream",
     "text": [
      "이순신 홍길동 "
     ]
    }
   ],
   "source": [
    "def setting(data):\n",
    "    return data[1]\n",
    "result = sorted(test, key=setting)\n",
    "for i in range(len(result)):\n",
    "    print(result[i][0], end=' ')"
   ]
  },
  {
   "cell_type": "markdown",
   "id": "7016d5d8",
   "metadata": {},
   "source": [
    "## 6-12"
   ]
  },
  {
   "cell_type": "code",
   "execution_count": 74,
   "id": "53ef94ab",
   "metadata": {},
   "outputs": [
    {
     "name": "stdout",
     "output_type": "stream",
     "text": [
      "5 3\n"
     ]
    }
   ],
   "source": [
    "n, k = map(int,input().split())"
   ]
  },
  {
   "cell_type": "code",
   "execution_count": 79,
   "id": "89d85c4a",
   "metadata": {},
   "outputs": [
    {
     "name": "stdout",
     "output_type": "stream",
     "text": [
      "1 2 5 4 3\n"
     ]
    }
   ],
   "source": [
    "a=list(map(int,input().split()))"
   ]
  },
  {
   "cell_type": "code",
   "execution_count": 80,
   "id": "5d92f08f",
   "metadata": {},
   "outputs": [
    {
     "name": "stdout",
     "output_type": "stream",
     "text": [
      "5 5 6 6 5\n"
     ]
    }
   ],
   "source": [
    "b=list(map(int, input().split()))"
   ]
  },
  {
   "cell_type": "code",
   "execution_count": 81,
   "id": "3b528d90",
   "metadata": {},
   "outputs": [
    {
     "name": "stdout",
     "output_type": "stream",
     "text": [
      "[1, 2, 3, 4, 5] [6, 6, 5, 5, 5]\n"
     ]
    }
   ],
   "source": [
    "a.sort()\n",
    "b=sorted(b, reverse=True)\n",
    "print(a, b)"
   ]
  },
  {
   "cell_type": "code",
   "execution_count": 82,
   "id": "9df16c3c",
   "metadata": {},
   "outputs": [],
   "source": [
    "for i in range(k):\n",
    "    if a[i]< b[i]:\n",
    "        a[i], b[i] = b[i], a[i]\n",
    "    else:\n",
    "        break"
   ]
  },
  {
   "cell_type": "code",
   "execution_count": 83,
   "id": "bb21dcc0",
   "metadata": {},
   "outputs": [
    {
     "name": "stdout",
     "output_type": "stream",
     "text": [
      "26\n"
     ]
    }
   ],
   "source": [
    "print(sum(a))"
   ]
  },
  {
   "cell_type": "markdown",
   "id": "0d8e1da0",
   "metadata": {},
   "source": [
    "##  Q15"
   ]
  },
  {
   "cell_type": "code",
   "execution_count": 22,
   "id": "efc780ee",
   "metadata": {},
   "outputs": [
    {
     "name": "stdout",
     "output_type": "stream",
     "text": [
      "4 4 2 1\n"
     ]
    }
   ],
   "source": [
    "N, M, K, X = map(int, input().split())"
   ]
  },
  {
   "cell_type": "code",
   "execution_count": 23,
   "id": "7107fe14",
   "metadata": {},
   "outputs": [
    {
     "name": "stdout",
     "output_type": "stream",
     "text": [
      "1 2\n",
      "1 3\n",
      "2 3\n",
      "2 4\n"
     ]
    }
   ],
   "source": [
    "road=[]\n",
    "for _ in range(M):\n",
    "    start, end = map(int, input().split())\n",
    "    road.append((start, end))"
   ]
  },
  {
   "cell_type": "code",
   "execution_count": 39,
   "id": "2a784c65",
   "metadata": {},
   "outputs": [],
   "source": [
    "graph=[[] for _ in range(N+1)]\n",
    "for i in range(len(road)):\n",
    "    graph[road[i][0]].append(road[i][1])"
   ]
  },
  {
   "cell_type": "code",
   "execution_count": 40,
   "id": "eb82a38a",
   "metadata": {},
   "outputs": [
    {
     "data": {
      "text/plain": [
       "[[], [2, 3], [3, 4], [], []]"
      ]
     },
     "execution_count": 40,
     "metadata": {},
     "output_type": "execute_result"
    }
   ],
   "source": [
    "graph"
   ]
  },
  {
   "cell_type": "code",
   "execution_count": 45,
   "id": "adcd9947",
   "metadata": {},
   "outputs": [],
   "source": [
    "distance=[-1]*(N+1)\n",
    "distance[X]=0"
   ]
  },
  {
   "cell_type": "code",
   "execution_count": 47,
   "id": "cdec9ce1",
   "metadata": {},
   "outputs": [
    {
     "name": "stdout",
     "output_type": "stream",
     "text": [
      "1\n",
      "2\n",
      "3\n",
      "4\n"
     ]
    }
   ],
   "source": [
    "from collections import deque\n",
    "q=deque([X])\n",
    "while q:\n",
    "    now=q.popleft()\n",
    "    print(now)\n",
    "    for next_node in graph[now]:\n",
    "        if distance[next_node]==-1:\n",
    "            distance[next_node]=distance[now]+1\n",
    "            q.append(next_node)"
   ]
  },
  {
   "cell_type": "code",
   "execution_count": 48,
   "id": "0b104a99",
   "metadata": {},
   "outputs": [
    {
     "name": "stdout",
     "output_type": "stream",
     "text": [
      "4\n"
     ]
    }
   ],
   "source": [
    "check=False\n",
    "for i in range(1,N+1):\n",
    "    if distance[i]==K:\n",
    "        print(i)\n",
    "        check=True"
   ]
  },
  {
   "cell_type": "code",
   "execution_count": 49,
   "id": "c7e5416e",
   "metadata": {},
   "outputs": [],
   "source": [
    "if check==False:\n",
    "    print(-1)"
   ]
  },
  {
   "cell_type": "code",
   "execution_count": 50,
   "id": "3b25a829",
   "metadata": {},
   "outputs": [],
   "source": [
    "## 외워보자"
   ]
  },
  {
   "cell_type": "code",
   "execution_count": 51,
   "id": "e2050ab5",
   "metadata": {},
   "outputs": [
    {
     "name": "stdout",
     "output_type": "stream",
     "text": [
      "4 4 2 1\n",
      "1 2\n",
      "1 3\n",
      "2 3\n",
      "2 4\n"
     ]
    }
   ],
   "source": [
    "n, m, k, x = map(int, input().split())\n",
    "road=[]\n",
    "for _ in range(n):\n",
    "    start,end = map(int, input().split())\n",
    "    road.append((start, end))"
   ]
  },
  {
   "cell_type": "code",
   "execution_count": 55,
   "id": "1bba0b04",
   "metadata": {},
   "outputs": [],
   "source": [
    "graph=[[] for _ in range(n+1)]\n",
    "for i in range(n):\n",
    "    graph[road[i][0]].append(road[i][1])"
   ]
  },
  {
   "cell_type": "code",
   "execution_count": 59,
   "id": "f5b8be37",
   "metadata": {},
   "outputs": [],
   "source": [
    "distance=[-1]*(n+1)\n",
    "distance[X]=0"
   ]
  },
  {
   "cell_type": "code",
   "execution_count": 61,
   "id": "c3e96f0b",
   "metadata": {},
   "outputs": [],
   "source": [
    "from collections import deque\n",
    "q= deque([X])\n",
    "while q:\n",
    "    now=q.popleft()\n",
    "    for next_node in graph[now]:\n",
    "        if distance[next_node]==-1:\n",
    "            distance[next_node]=distance[now]+1\n",
    "            q.append(next_node)"
   ]
  },
  {
   "cell_type": "code",
   "execution_count": 64,
   "id": "59ec58b5",
   "metadata": {},
   "outputs": [
    {
     "name": "stdout",
     "output_type": "stream",
     "text": [
      "4\n"
     ]
    }
   ],
   "source": [
    "check=False\n",
    "for i in range(len(distance)):\n",
    "    if distance[i]==k:\n",
    "        print(i)\n",
    "        check=True\n",
    "if k not in distance:\n",
    "    print(-1)"
   ]
  },
  {
   "cell_type": "markdown",
   "id": "bf195f57",
   "metadata": {},
   "source": [
    "##  Q15"
   ]
  },
  {
   "cell_type": "code",
   "execution_count": 65,
   "id": "e95fd6b3",
   "metadata": {},
   "outputs": [
    {
     "name": "stdout",
     "output_type": "stream",
     "text": [
      "8 8\n"
     ]
    }
   ],
   "source": [
    "n, m = map(int, input().split())"
   ]
  },
  {
   "cell_type": "code",
   "execution_count": 66,
   "id": "bfa7c965",
   "metadata": {},
   "outputs": [
    {
     "name": "stdout",
     "output_type": "stream",
     "text": [
      "2 0 0 0 0 0 0 2\n",
      "2 0 0 0 0 0 0 2\n",
      "2 0 0 0 0 0 0 2\n",
      "2 0 0 0 0 0 0 2\n",
      "2 0 0 0 0 0 0 2\n",
      "0 0 0 0 0 0 0 0\n",
      "0 0 0 0 0 0 0 0\n",
      "0 0 0 0 0 0 0 0\n"
     ]
    }
   ],
   "source": [
    "a=[]\n",
    "for i in range(n):\n",
    "    a.append(list(map(int, input().split())))"
   ]
  },
  {
   "cell_type": "code",
   "execution_count": 67,
   "id": "3222491e",
   "metadata": {},
   "outputs": [],
   "source": [
    "dx=[-1,0,1,0]\n",
    "dy=[0,1,0,-1]\n",
    "result=0"
   ]
  },
  {
   "cell_type": "code",
   "execution_count": 68,
   "id": "77643085",
   "metadata": {},
   "outputs": [],
   "source": [
    "def virus(x, y, temp):\n",
    "    for i in range(4):\n",
    "        nx=x+dx[i]\n",
    "        ny=y+dy[i]\n",
    "        if nx>=0 and nx<n and ny>=0 and ny<m:\n",
    "            if temp[nx][ny]==0:\n",
    "                temp[nx][ny]=2\n",
    "                virus(nx, ny, temp)\n",
    "    return temp"
   ]
  },
  {
   "cell_type": "code",
   "execution_count": 69,
   "id": "f6254943",
   "metadata": {},
   "outputs": [],
   "source": [
    "def get_score(temp):\n",
    "    score=0\n",
    "    for i in range(n):\n",
    "        for j in range(m):\n",
    "            if temp[i][j]==0:\n",
    "                score+=1\n",
    "    return score"
   ]
  },
  {
   "cell_type": "code",
   "execution_count": 70,
   "id": "56e27176",
   "metadata": {},
   "outputs": [],
   "source": [
    "from itertools import combinations\n",
    "import copy"
   ]
  },
  {
   "cell_type": "code",
   "execution_count": 71,
   "id": "25082ab9",
   "metadata": {
    "scrolled": true
   },
   "outputs": [],
   "source": [
    "def dfs():\n",
    "    global result\n",
    "    \n",
    "    blankspace=[]\n",
    "    for i in range(n):\n",
    "        for j in range(m):\n",
    "            if a[i][j]==0:\n",
    "                blankspace.append([i,j])\n",
    "      \n",
    "    z=list(combinations(blankspace,3))\n",
    "    \n",
    "    \n",
    "    for i in range(len(z)):\n",
    "        temp = copy.deepcopy(a)\n",
    "        for j in range(3):\n",
    "            temp[z[i][j][0]][z[i][j][1]] = 1\n",
    "        for s in range(n):\n",
    "            for t in range(m):\n",
    "                if temp[s][t]==2:\n",
    "                    virus(s, t, temp)\n",
    "        result = max(result,get_score(temp))\n",
    "    return result"
   ]
  },
  {
   "cell_type": "code",
   "execution_count": 72,
   "id": "da6df728",
   "metadata": {},
   "outputs": [
    {
     "data": {
      "text/plain": [
       "3"
      ]
     },
     "execution_count": 72,
     "metadata": {},
     "output_type": "execute_result"
    }
   ],
   "source": [
    "dfs()"
   ]
  },
  {
   "cell_type": "markdown",
   "id": "6beb9f97",
   "metadata": {},
   "source": [
    "##  Q18"
   ]
  },
  {
   "cell_type": "code",
   "execution_count": null,
   "id": "8bca19e8",
   "metadata": {},
   "outputs": [],
   "source": []
  }
 ],
 "metadata": {
  "kernelspec": {
   "display_name": "Python 3",
   "language": "python",
   "name": "python3"
  },
  "language_info": {
   "codemirror_mode": {
    "name": "ipython",
    "version": 3
   },
   "file_extension": ".py",
   "mimetype": "text/x-python",
   "name": "python",
   "nbconvert_exporter": "python",
   "pygments_lexer": "ipython3",
   "version": "3.9.4"
  }
 },
 "nbformat": 4,
 "nbformat_minor": 5
}
