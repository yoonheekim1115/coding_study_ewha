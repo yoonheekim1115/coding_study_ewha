{
 "cells": [
  {
   "cell_type": "markdown",
   "id": "a713f1a4",
   "metadata": {},
   "source": [
    "## 이진탐색"
   ]
  },
  {
   "cell_type": "markdown",
   "id": "00aa8962",
   "metadata": {},
   "source": [
    "## 7-1"
   ]
  },
  {
   "cell_type": "code",
   "execution_count": 3,
   "id": "a25afb6a",
   "metadata": {},
   "outputs": [
    {
     "name": "stdout",
     "output_type": "stream",
     "text": [
      "생성할 원소 개수를 입력한 다음 한 칸 띄고 찾을 문자열을 입력하세요\n",
      "3 aa\n",
      "앞서 적은 원소 개수만큼 문자열을 입력하세요. 구분은 띄어쓰기 한 칸으로 합니다.\n",
      "aa bb cc\n",
      "1\n"
     ]
    }
   ],
   "source": [
    "def sequential_search(n, target, array):\n",
    "    for i in range(n):\n",
    "        if array[i]==target:\n",
    "            return i+1\n",
    "print(\"생성할 원소 개수를 입력한 다음 한 칸 띄고 찾을 문자열을 입력하세요\")\n",
    "input_data=input().split()\n",
    "n=int(input_data[0])\n",
    "target=input_data[1]\n",
    "\n",
    "print(\"앞서 적은 원소 개수만큼 문자열을 입력하세요. 구분은 띄어쓰기 한 칸으로 합니다.\")\n",
    "array=input().split()\n",
    "\n",
    "print(sequential_search(n, target, array))"
   ]
  },
  {
   "cell_type": "markdown",
   "id": "691ce19e",
   "metadata": {},
   "source": [
    "## 7-2 이진탐색"
   ]
  },
  {
   "cell_type": "code",
   "execution_count": 5,
   "id": "0612ec7c",
   "metadata": {},
   "outputs": [
    {
     "name": "stdout",
     "output_type": "stream",
     "text": [
      "5 7\n",
      "1 3 5 7 9\n",
      "4\n"
     ]
    }
   ],
   "source": [
    "def binary_search(array, target, start, end):\n",
    "    if start>end:\n",
    "        return None\n",
    "    mid=(start+end)//2\n",
    "    if array[mid]==target:\n",
    "        return mid\n",
    "    elif array[mid]>target:\n",
    "        return binary_search(array, target, start, mid-1)\n",
    "    else:\n",
    "        return binary_search(array, target, mid+1, end)\n",
    "    \n",
    "n, target=list(map(int, input().split()))\n",
    "array=list(map(int, input().split()))\n",
    "\n",
    "result=binary_search(array, target, 0, n-1)\n",
    "if result==None:\n",
    "    print(\"원소가 존재하지 않습니다.\")\n",
    "else:\n",
    "    print(result+1)"
   ]
  },
  {
   "cell_type": "code",
   "execution_count": 8,
   "id": "f4b7f52e",
   "metadata": {},
   "outputs": [
    {
     "name": "stdout",
     "output_type": "stream",
     "text": [
      "5 7\n",
      "1 3 5 7 9\n",
      "4\n"
     ]
    }
   ],
   "source": [
    "def binary_search(array, target, start, end):\n",
    "    while start<=end:\n",
    "        mid=(start+end)//2\n",
    "        if array[mid]==target:\n",
    "            return mid\n",
    "        elif array[mid]>target:\n",
    "            end=mid-1\n",
    "        else:\n",
    "            start=mid+1\n",
    "    return None\n",
    "n, target=list(map(int, input().split()))\n",
    "array=list(map(int, input().split()))\n",
    "\n",
    "result=binary_search(array, target, 0, n-1)\n",
    "if result==None:\n",
    "    print(\"원소가 존재하지 않습니다.\")\n",
    "else:\n",
    "    print(result+1)"
   ]
  },
  {
   "cell_type": "markdown",
   "id": "f8bb609e",
   "metadata": {},
   "source": [
    "## 7-4 "
   ]
  },
  {
   "cell_type": "code",
   "execution_count": 6,
   "id": "cb0df882",
   "metadata": {},
   "outputs": [
    {
     "name": "stdout",
     "output_type": "stream",
     "text": [
      "\n"
     ]
    }
   ],
   "source": [
    "import sys\n",
    "input_data=sys.stdin.readline().rstrip  ##주피터노트북에서는 불가능한 방법 항상 ' '만 반환\n",
    "print(input_data)"
   ]
  },
  {
   "cell_type": "markdown",
   "id": "4f79cd9e",
   "metadata": {},
   "source": [
    "## 7-5"
   ]
  },
  {
   "cell_type": "code",
   "execution_count": 11,
   "id": "31f81abe",
   "metadata": {},
   "outputs": [
    {
     "name": "stdout",
     "output_type": "stream",
     "text": [
      "8 3 7 9 2\n"
     ]
    }
   ],
   "source": [
    "n= int(input())\n",
    "array=list(map(int,input().split()))\n",
    "m=int(input())\n",
    "target=list(map(int, input().split()))\n",
    "for i in range(m):\n",
    "        if target[i] in array:\n",
    "            print('yes', end=' ')\n",
    "        else:\n",
    "            print('no', end=' ')"
   ]
  },
  {
   "cell_type": "code",
   "execution_count": 20,
   "id": "f45b9f4c",
   "metadata": {},
   "outputs": [
    {
     "name": "stdout",
     "output_type": "stream",
     "text": [
      "5 \n",
      "8 3 7 9 2\n",
      "3 \n",
      "5 7 9\n",
      "no yes yes "
     ]
    }
   ],
   "source": [
    "def binary_search(array, target, start, end):\n",
    "    array.sort()\n",
    "    while start<=end:\n",
    "        mid=(start+end)//2\n",
    "        if array[mid]==target:\n",
    "            return mid\n",
    "        elif array[mid]>target:\n",
    "            end=mid-1\n",
    "        else:\n",
    "            start=mid+1\n",
    "    return None\n",
    "\n",
    "n= int(input())\n",
    "array=list(map(int,input().split()))\n",
    "m=int(input())\n",
    "target=list(map(int, input().split()))\n",
    "\n",
    "for i in target:\n",
    "    result = binary_search(array, i, 0, n-1)\n",
    "    if result==None:\n",
    "        print('no', end=' ')\n",
    "    else:\n",
    "        print('yes', end=' ')"
   ]
  },
  {
   "cell_type": "code",
   "execution_count": 26,
   "id": "368a510f",
   "metadata": {},
   "outputs": [
    {
     "name": "stdout",
     "output_type": "stream",
     "text": [
      "5\n",
      "5 7 9\n",
      "no yes yes "
     ]
    }
   ],
   "source": [
    "n=int(input())\n",
    "array=[0]*1000001\n",
    "\n",
    "for i in input().split():\n",
    "    array[int(i)]=1\n",
    "m=int(input())\n",
    "target=list(map(int, input().split()))\n",
    "for i in target:\n",
    "    if array[i]==1:\n",
    "        print('yes', end=' ')\n",
    "    else:\n",
    "        print('no', end=' ')"
   ]
  },
  {
   "cell_type": "markdown",
   "id": "c85dfaf3",
   "metadata": {},
   "source": [
    "## 7-6"
   ]
  },
  {
   "cell_type": "code",
   "execution_count": 98,
   "id": "caca609b",
   "metadata": {},
   "outputs": [
    {
     "name": "stdout",
     "output_type": "stream",
     "text": [
      "4 6\n",
      "19 15 10 17\n"
     ]
    }
   ],
   "source": [
    "n,m=map(int,input().split())\n",
    "array=list(map(int, input().split()))"
   ]
  },
  {
   "cell_type": "code",
   "execution_count": 68,
   "id": "293c1f5c",
   "metadata": {},
   "outputs": [
    {
     "name": "stdout",
     "output_type": "stream",
     "text": [
      "15\n"
     ]
    }
   ],
   "source": [
    "start=0\n",
    "end=max(array)\n",
    "array.sort()\n",
    "result=0\n",
    "while (start<=end):\n",
    "    total=0\n",
    "    mid=(start+end)//2\n",
    "    for x in array:\n",
    "        if x>mid:\n",
    "            total+=x-mid\n",
    "    if total<m:\n",
    "        end=mid-1\n",
    "    else:\n",
    "        result=mid\n",
    "        start=mid+1\n",
    "print(result)"
   ]
  },
  {
   "cell_type": "code",
   "execution_count": 100,
   "id": "004ac45c",
   "metadata": {},
   "outputs": [
    {
     "name": "stdout",
     "output_type": "stream",
     "text": [
      "15\n"
     ]
    }
   ],
   "source": [
    "start=max(array)\n",
    "end=0\n",
    "total=0\n",
    "while total<m:\n",
    "    for i in range(start, end,-1):\n",
    "        length=i\n",
    "        for x in range(n):\n",
    "            total+= max(0, array[x]-length)\n",
    "        if total<m:\n",
    "            total=0\n",
    "        else:\n",
    "            result=max(result,length)\n",
    "print(result)"
   ]
  },
  {
   "cell_type": "markdown",
   "id": "2b3a335b",
   "metadata": {},
   "source": [
    "## Q17"
   ]
  },
  {
   "cell_type": "code",
   "execution_count": 186,
   "id": "21e23455",
   "metadata": {},
   "outputs": [
    {
     "name": "stdout",
     "output_type": "stream",
     "text": [
      "3 3\n",
      "1 0 2\n",
      "0 0 0\n",
      "3 0 0\n"
     ]
    }
   ],
   "source": [
    "n,k = map(int, input().split())\n",
    "init=[]\n",
    "for _ in range(n):\n",
    "    init.append(list(map(int, input().split())))"
   ]
  },
  {
   "cell_type": "code",
   "execution_count": 187,
   "id": "6004baca",
   "metadata": {},
   "outputs": [
    {
     "name": "stdout",
     "output_type": "stream",
     "text": [
      "2 3 2\n"
     ]
    }
   ],
   "source": [
    "s, x, y = map(int, input().split())"
   ]
  },
  {
   "cell_type": "code",
   "execution_count": 188,
   "id": "6184c340",
   "metadata": {},
   "outputs": [],
   "source": [
    "time=0\n",
    "dx=[-1,0,1,0]\n",
    "dy=[0,1,0,-1]"
   ]
  },
  {
   "cell_type": "code",
   "execution_count": 190,
   "id": "3b475d4b",
   "metadata": {},
   "outputs": [],
   "source": [
    "mapping=[[] for _ in range(n+1)]\n",
    "for z in range(n):\n",
    "    for t in range(n):\n",
    "        for i in range(1,k+1):\n",
    "            if init[z][t]==i:\n",
    "                mapping[i].append((z, t))"
   ]
  },
  {
   "cell_type": "code",
   "execution_count": 192,
   "id": "ff9e53d8",
   "metadata": {},
   "outputs": [],
   "source": [
    "while time<s:\n",
    "    for i in range(1,len(mapping)):\n",
    "        for j in range(len(mapping[i])):\n",
    "            a, b= mapping[i][j][0], mapping[i][j][1]\n",
    "            \n",
    "            for d in range(4):\n",
    "                nx=a+dx[d]\n",
    "                ny=b+dy[d]\n",
    "                if nx>=0 and nx<n and ny>=0 and ny<n:\n",
    "                    if init[nx][ny]==0:\n",
    "                        init[nx][ny]=i\n",
    "                        mapping[i].append((nx, ny))\n",
    "                        \n",
    "    time+=1\n",
    "print(init[x-1][y-1])"
   ]
  },
  {
   "cell_type": "markdown",
   "id": "626b9a74",
   "metadata": {},
   "source": [
    "## Q 18"
   ]
  },
  {
   "cell_type": "code",
   "execution_count": 194,
   "id": "c0034fc1",
   "metadata": {},
   "outputs": [
    {
     "name": "stdout",
     "output_type": "stream",
     "text": [
      "(()())()\n"
     ]
    }
   ],
   "source": [
    "text=input()"
   ]
  },
  {
   "cell_type": "code",
   "execution_count": 198,
   "id": "b1e9fd85",
   "metadata": {},
   "outputs": [],
   "source": [
    "def balanced_index(p):\n",
    "    count=0\n",
    "    for i in range(len(p)):\n",
    "        if p[i]=='(':\n",
    "            count+=1\n",
    "        else:\n",
    "            count-=1\n",
    "        if count==0:\n",
    "            return i \n",
    "        \n",
    "def check_proper(p):\n",
    "    count=0\n",
    "    for i in p:\n",
    "        if i=='(':\n",
    "            count+=1\n",
    "        else:\n",
    "            if count==0:\n",
    "                return False\n",
    "            count -= 1\n",
    "    return True\n",
    "\n",
    "def solution(p):\n",
    "    answer=''\n",
    "    if p == '':\n",
    "        return answer\n",
    "    index= balanced_index(p)\n",
    "    u=p[:index+1]\n",
    "    v=p[index+1:]\n",
    "    \n",
    "    if check_proper(u):\n",
    "        answer=u+solution(v)\n",
    "        \n",
    "    else:\n",
    "        answer='('\n",
    "        answer+=solution(v)\n",
    "        answer+=')'\n",
    "        u=list(u[1:-1])\n",
    "        for i in range(len(u)):\n",
    "            if u[i]=='(':\n",
    "                u[i]=')'\n",
    "            else:\n",
    "                u[i]='('\n",
    "        answer += \"\".join(u)\n",
    "    return answer"
   ]
  },
  {
   "cell_type": "code",
   "execution_count": 200,
   "id": "85c1d4cb",
   "metadata": {},
   "outputs": [
    {
     "data": {
      "text/plain": [
       "'(()())()'"
      ]
     },
     "execution_count": 200,
     "metadata": {},
     "output_type": "execute_result"
    }
   ],
   "source": [
    "solution(text)"
   ]
  },
  {
   "cell_type": "markdown",
   "id": "df54830f",
   "metadata": {},
   "source": [
    "## Q19"
   ]
  },
  {
   "cell_type": "code",
   "execution_count": 111,
   "id": "f5d02c5f",
   "metadata": {},
   "outputs": [
    {
     "name": "stdout",
     "output_type": "stream",
     "text": [
      "6\n"
     ]
    }
   ],
   "source": [
    "n=int(input())"
   ]
  },
  {
   "cell_type": "code",
   "execution_count": 112,
   "id": "fc55b009",
   "metadata": {},
   "outputs": [
    {
     "name": "stdout",
     "output_type": "stream",
     "text": [
      "1 2 3 4 5 6\n"
     ]
    }
   ],
   "source": [
    "array=list(map(int, input().split()))"
   ]
  },
  {
   "cell_type": "code",
   "execution_count": 113,
   "id": "85a1b13d",
   "metadata": {},
   "outputs": [
    {
     "name": "stdout",
     "output_type": "stream",
     "text": [
      "2 1 1 1\n"
     ]
    }
   ],
   "source": [
    "signal=list(map(int, input().split()))"
   ]
  },
  {
   "cell_type": "code",
   "execution_count": 135,
   "id": "136c361a",
   "metadata": {},
   "outputs": [],
   "source": [
    "OK=['plus', 'minus', 'times','divide']\n",
    "happy=[]\n",
    "for i in range(len(signal)):\n",
    "    for j in range((signal[i])):\n",
    "        if signal[i]!=0:\n",
    "            happy.append(OK[i])\n",
    "\n",
    "from itertools import permutations"
   ]
  },
  {
   "cell_type": "code",
   "execution_count": 139,
   "id": "cc4ac569",
   "metadata": {},
   "outputs": [],
   "source": [
    "permutate=list(permutations(happy, len(happy)))\n",
    "permutate=list(set(permutate))"
   ]
  },
  {
   "cell_type": "code",
   "execution_count": 140,
   "id": "d022449a",
   "metadata": {},
   "outputs": [],
   "source": [
    "from collections import deque\n",
    "\n",
    "maxresult=-10000000\n",
    "minresult=10000000\n",
    "\n",
    "for i in range(len(permutate)):\n",
    "    sig=deque(permutate[i])\n",
    "    num=deque(array)\n",
    "    result=num.popleft()\n",
    "    for j in range(len(permutate[i])):\n",
    "        sigs=sig.popleft()\n",
    "        nexts=num.popleft()\n",
    "        if sigs == 'plus':\n",
    "            result+= nexts\n",
    "        elif sigs== 'minus':\n",
    "            result-= nexts\n",
    "        elif sigs=='times':\n",
    "            result *= nexts\n",
    "        elif sigs=='divide':\n",
    "            if result<0:\n",
    "                result = -((-result)// nexts)\n",
    "            else :\n",
    "                result= result//nexts\n",
    "    maxresult=max(result, maxresult)\n",
    "    minresult=min(result, minresult)"
   ]
  },
  {
   "cell_type": "code",
   "execution_count": 141,
   "id": "7501320b",
   "metadata": {
    "scrolled": true
   },
   "outputs": [
    {
     "name": "stdout",
     "output_type": "stream",
     "text": [
      "54 -24\n"
     ]
    }
   ],
   "source": [
    "print(maxresult, minresult)"
   ]
  },
  {
   "cell_type": "markdown",
   "id": "9c2a0dd0",
   "metadata": {},
   "source": [
    "## Q24"
   ]
  },
  {
   "cell_type": "code",
   "execution_count": 142,
   "id": "5c43a6cf",
   "metadata": {},
   "outputs": [
    {
     "name": "stdout",
     "output_type": "stream",
     "text": [
      "4\n"
     ]
    }
   ],
   "source": [
    "n=int(input())"
   ]
  },
  {
   "cell_type": "code",
   "execution_count": 145,
   "id": "3d0ab52d",
   "metadata": {},
   "outputs": [
    {
     "name": "stdout",
     "output_type": "stream",
     "text": [
      "5 1 7 9\n"
     ]
    }
   ],
   "source": [
    "array=list(map(int, input().split()))"
   ]
  },
  {
   "cell_type": "code",
   "execution_count": 158,
   "id": "62722c48",
   "metadata": {},
   "outputs": [],
   "source": [
    "array.sort()\n",
    "minresult=100000\n",
    "final=[]\n",
    "for i in range(max(array)):\n",
    "    result=0\n",
    "    for j in range(n):\n",
    "        result+=abs(array[j]-i)\n",
    "    final.append((i,result))"
   ]
  },
  {
   "cell_type": "code",
   "execution_count": 163,
   "id": "d9a38a60",
   "metadata": {},
   "outputs": [
    {
     "name": "stdout",
     "output_type": "stream",
     "text": [
      "5\n"
     ]
    }
   ],
   "source": [
    "def setting(data):\n",
    "    return data[1]\n",
    "result=sorted(final, key=setting)\n",
    "print(result[0][0])"
   ]
  },
  {
   "cell_type": "markdown",
   "id": "bca39122",
   "metadata": {},
   "source": [
    "## Q25"
   ]
  },
  {
   "cell_type": "code",
   "execution_count": 164,
   "id": "3f67e730",
   "metadata": {},
   "outputs": [
    {
     "name": "stdout",
     "output_type": "stream",
     "text": [
      "5\n"
     ]
    }
   ],
   "source": [
    "n=int(input())"
   ]
  },
  {
   "cell_type": "code",
   "execution_count": 165,
   "id": "765bfc2e",
   "metadata": {},
   "outputs": [
    {
     "name": "stdout",
     "output_type": "stream",
     "text": [
      "2 1 2 6 2 4 3 3\n"
     ]
    }
   ],
   "source": [
    "stages=list(map(int, input().split()))"
   ]
  },
  {
   "cell_type": "code",
   "execution_count": 222,
   "id": "d2b5967e",
   "metadata": {},
   "outputs": [
    {
     "name": "stdout",
     "output_type": "stream",
     "text": [
      "3 4 2 1 5 "
     ]
    }
   ],
   "source": [
    "stage=[0]*(n+2)\n",
    "clear=[0]*(n+2)\n",
    "for i in range(len(stages)):\n",
    "    for j in range(stages[i]+1):\n",
    "        stage[j]+=1\n",
    "    for s in range(stages[i]):\n",
    "        clear[s]+=1\n",
    "\n",
    "result=[]        \n",
    "for j in range(1,len(clear)-1):\n",
    "    result.append((j, 1-clear[j]/stage[j]))\n",
    "\n",
    "def setting(data):\n",
    "    return data[1]\n",
    "    \n",
    "result=sorted(result, key=setting, reverse=True)\n",
    "for i in range(len(result)):\n",
    "    print(result[i][0], end=' ')"
   ]
  },
  {
   "cell_type": "code",
   "execution_count": 223,
   "id": "e410ae43",
   "metadata": {},
   "outputs": [
    {
     "data": {
      "text/plain": [
       "[(3, 0.5), (4, 0.5), (2, 0.4285714285714286), (1, 0.125), (5, 0.0)]"
      ]
     },
     "execution_count": 223,
     "metadata": {},
     "output_type": "execute_result"
    }
   ],
   "source": [
    "result"
   ]
  },
  {
   "cell_type": "code",
   "execution_count": null,
   "id": "6306c0f1",
   "metadata": {},
   "outputs": [],
   "source": []
  }
 ],
 "metadata": {
  "kernelspec": {
   "display_name": "Python 3",
   "language": "python",
   "name": "python3"
  },
  "language_info": {
   "codemirror_mode": {
    "name": "ipython",
    "version": 3
   },
   "file_extension": ".py",
   "mimetype": "text/x-python",
   "name": "python",
   "nbconvert_exporter": "python",
   "pygments_lexer": "ipython3",
   "version": "3.9.4"
  }
 },
 "nbformat": 4,
 "nbformat_minor": 5
}
