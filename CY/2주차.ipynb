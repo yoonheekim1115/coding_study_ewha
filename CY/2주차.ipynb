{
 "cells": [
  {
   "cell_type": "markdown",
   "id": "e059babd",
   "metadata": {},
   "source": [
    "## 실전문제 07"
   ]
  },
  {
   "cell_type": "code",
   "execution_count": 20,
   "id": "ae1581ef",
   "metadata": {},
   "outputs": [
    {
     "name": "stdout",
     "output_type": "stream",
     "text": [
      "123450\n",
      "READY\n"
     ]
    }
   ],
   "source": [
    "n=input()\n",
    "N=int(len(n)/2)\n",
    "result0, result1= 0,0\n",
    "for i in range(N):\n",
    "    result0+=int(n[i])\n",
    "for i in range(N,2*N):\n",
    "    result1+=int(n[i])\n",
    "if result0==result1:\n",
    "    print(\"LUCKY\")\n",
    "else:\n",
    "    print(\"READY\")"
   ]
  },
  {
   "cell_type": "code",
   "execution_count": 21,
   "id": "91fc4125",
   "metadata": {},
   "outputs": [],
   "source": [
    "def Luckystrike(n):\n",
    "    n=str(n)\n",
    "    N=int(len(n)/2)\n",
    "    result0, result1= 0,0\n",
    "    for i in range(N):\n",
    "        result0+=int(n[i])\n",
    "    for i in range(N,2*N):\n",
    "        result1+=int(n[i])\n",
    "    if result0==result1:\n",
    "        print(\"LUCKY\")\n",
    "    else:\n",
    "        print(\"READY\")"
   ]
  },
  {
   "cell_type": "code",
   "execution_count": 22,
   "id": "d9db93a6",
   "metadata": {},
   "outputs": [
    {
     "name": "stdout",
     "output_type": "stream",
     "text": [
      "READY\n"
     ]
    }
   ],
   "source": [
    "Luckystrike(7755)"
   ]
  },
  {
   "cell_type": "code",
   "execution_count": null,
   "id": "861a14bf",
   "metadata": {},
   "outputs": [],
   "source": []
  }
 ],
 "metadata": {
  "kernelspec": {
   "display_name": "Python 3",
   "language": "python",
   "name": "python3"
  },
  "language_info": {
   "codemirror_mode": {
    "name": "ipython",
    "version": 3
   },
   "file_extension": ".py",
   "mimetype": "text/x-python",
   "name": "python",
   "nbconvert_exporter": "python",
   "pygments_lexer": "ipython3",
   "version": "3.9.4"
  }
 },
 "nbformat": 4,
 "nbformat_minor": 5
}
