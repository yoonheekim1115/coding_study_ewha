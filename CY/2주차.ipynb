{
 "cells": [
  {
   "cell_type": "markdown",
   "id": "e059babd",
   "metadata": {},
   "source": [
    "## 실전문제 07"
   ]
  },
  {
   "cell_type": "code",
   "execution_count": 20,
   "id": "ae1581ef",
   "metadata": {},
   "outputs": [
    {
     "name": "stdout",
     "output_type": "stream",
     "text": [
      "123450\n",
      "READY\n"
     ]
    }
   ],
   "source": [
    "n=input()\n",
    "N=int(len(n)/2)\n",
    "result0, result1= 0,0\n",
    "for i in range(N):\n",
    "    result0+=int(n[i])\n",
    "for i in range(N,2*N):\n",
    "    result1+=int(n[i])\n",
    "if result0==result1:\n",
    "    print(\"LUCKY\")\n",
    "else:\n",
    "    print(\"READY\")"
   ]
  },
  {
   "cell_type": "code",
   "execution_count": 21,
   "id": "91fc4125",
   "metadata": {},
   "outputs": [],
   "source": [
    "def Luckystrike(n):\n",
    "    n=str(n)\n",
    "    N=int(len(n)/2)\n",
    "    result0, result1= 0,0\n",
    "    for i in range(N):\n",
    "        result0+=int(n[i])\n",
    "    for i in range(N,2*N):\n",
    "        result1+=int(n[i])\n",
    "    if result0==result1:\n",
    "        print(\"LUCKY\")\n",
    "    else:\n",
    "        print(\"READY\")"
   ]
  },
  {
   "cell_type": "code",
   "execution_count": 22,
   "id": "d9db93a6",
   "metadata": {},
   "outputs": [
    {
     "name": "stdout",
     "output_type": "stream",
     "text": [
      "READY\n"
     ]
    }
   ],
   "source": [
    "Luckystrike(7755)"
   ]
  },
  {
   "cell_type": "markdown",
   "id": "177df8c0",
   "metadata": {},
   "source": [
    "## 실전문제 08"
   ]
  },
  {
   "cell_type": "code",
   "execution_count": 3,
   "id": "7de8647b",
   "metadata": {},
   "outputs": [
    {
     "name": "stdout",
     "output_type": "stream",
     "text": [
      "K1KA5CB7\n"
     ]
    }
   ],
   "source": [
    "n=input()"
   ]
  },
  {
   "cell_type": "code",
   "execution_count": 10,
   "id": "c4d98008",
   "metadata": {},
   "outputs": [],
   "source": [
    "alphabet='ABCDEFGHIJKLMNOPQRSTUVWXYZ'\n",
    "a=[]\n",
    "result=0\n",
    "for i in range(len(n)):\n",
    "    if n[i] in alphabet:\n",
    "        a.append(n[i])\n",
    "    else:\n",
    "        result+=int(n[i])\n",
    "a.sort()\n",
    "text=''\n",
    "for i in range(len(a)):\n",
    "    text+=a[i]\n",
    "text+=str(result)"
   ]
  },
  {
   "cell_type": "code",
   "execution_count": 24,
   "id": "a9990aca",
   "metadata": {},
   "outputs": [
    {
     "data": {
      "text/plain": [
       "'ABCKK13'"
      ]
     },
     "execution_count": 24,
     "metadata": {},
     "output_type": "execute_result"
    }
   ],
   "source": [
    "text"
   ]
  },
  {
   "cell_type": "code",
   "execution_count": 32,
   "id": "f26318f7",
   "metadata": {},
   "outputs": [],
   "source": [
    "def sorting(n):\n",
    "    alphabet='ABCDEFGHIJKLMNOPQRSTUVWXYZ'\n",
    "    a=['']\n",
    "    result=0\n",
    "    for i in range(len(n)):\n",
    "        if n[i] in alphabet:\n",
    "            a.append(n[i])\n",
    "        else:\n",
    "            result+=int(n[i])\n",
    "    a.sort()\n",
    "    text=''\n",
    "    for i in range(len(a)):\n",
    "        text+=a[i]\n",
    "    text+=str(result)\n",
    "    print(text)"
   ]
  },
  {
   "cell_type": "code",
   "execution_count": 33,
   "id": "1a59d424",
   "metadata": {},
   "outputs": [
    {
     "name": "stdout",
     "output_type": "stream",
     "text": [
      "EKRW6\n"
     ]
    }
   ],
   "source": [
    "sorting('K123ERW')"
   ]
  },
  {
   "cell_type": "markdown",
   "id": "b80e99dc",
   "metadata": {},
   "source": [
    "## 예제 4-1"
   ]
  },
  {
   "cell_type": "code",
   "execution_count": 54,
   "id": "4436bd7f",
   "metadata": {},
   "outputs": [
    {
     "name": "stdout",
     "output_type": "stream",
     "text": [
      "5\n",
      "R R R U D D\n"
     ]
    }
   ],
   "source": [
    "N=int(input())\n",
    "A=input().split()"
   ]
  },
  {
   "cell_type": "code",
   "execution_count": 55,
   "id": "d508d0cf",
   "metadata": {},
   "outputs": [
    {
     "name": "stdout",
     "output_type": "stream",
     "text": [
      "3 4\n"
     ]
    }
   ],
   "source": [
    "x, y= 1,1\n",
    "for i in range(len(A)):\n",
    "    if A[i]=='L':\n",
    "        x=max(1, x-1)\n",
    "    elif A[i]=='R':\n",
    "        x=min(5, x+1)\n",
    "    elif A[i]=='U':\n",
    "        y=max(1, y-1)\n",
    "    elif A[i]=='D':\n",
    "        y=min(5, y+1)        \n",
    "print(y, x)"
   ]
  },
  {
   "cell_type": "code",
   "execution_count": 56,
   "id": "6cfe58e3",
   "metadata": {},
   "outputs": [],
   "source": [
    "def direction(n):\n",
    "    A=n.split()\n",
    "    x, y= 1,1\n",
    "    for i in range(len(A)):\n",
    "        if A[i]=='L':\n",
    "            x=max(1, x-1)\n",
    "        elif A[i]=='R':\n",
    "            x=min(N, x+1)\n",
    "        elif A[i]=='U':\n",
    "            y=max(1, y-1)\n",
    "        elif A[i]=='D':\n",
    "            y=min(N, y+1)\n",
    "    print(y, x)"
   ]
  },
  {
   "cell_type": "code",
   "execution_count": 57,
   "id": "0322aaaf",
   "metadata": {},
   "outputs": [
    {
     "name": "stdout",
     "output_type": "stream",
     "text": [
      "3 4\n"
     ]
    }
   ],
   "source": [
    "direction('R R R U D D')"
   ]
  },
  {
   "cell_type": "code",
   "execution_count": 63,
   "id": "168c33e0",
   "metadata": {},
   "outputs": [
    {
     "name": "stdout",
     "output_type": "stream",
     "text": [
      "5\n",
      "R R R U D D\n",
      "4 3\n"
     ]
    }
   ],
   "source": [
    "##책의 풀이\n",
    "n=int(input())\n",
    "A=input().split()\n",
    "x, y=1,1\n",
    "\n",
    "direction=['L','R','U','D']\n",
    "dx=[-1, 1, 0, 0]\n",
    "dy=[0,0,-1, 1]\n",
    "\n",
    "for i in range(len(A)):\n",
    "    for j in range(len(direction)):\n",
    "        if A[i]==direction[j]:\n",
    "            nx=x+dx[j]\n",
    "            ny=y+dy[j]\n",
    "    if ny<1 or ny>n or nx>n or nx<1:\n",
    "        continue\n",
    "    x, y= nx, ny\n",
    "print(x, y)                "
   ]
  },
  {
   "cell_type": "markdown",
   "id": "a292af14",
   "metadata": {},
   "source": [
    "## 예제 4-2"
   ]
  },
  {
   "cell_type": "code",
   "execution_count": 65,
   "id": "d10832b8",
   "metadata": {},
   "outputs": [
    {
     "name": "stdout",
     "output_type": "stream",
     "text": [
      "5\n"
     ]
    }
   ],
   "source": [
    "N=int(input())"
   ]
  },
  {
   "cell_type": "code",
   "execution_count": 78,
   "id": "e2a14389",
   "metadata": {},
   "outputs": [
    {
     "name": "stdout",
     "output_type": "stream",
     "text": [
      "11475\n"
     ]
    }
   ],
   "source": [
    "result=0\n",
    "for h in range(N+1):\n",
    "    for m in range(60):\n",
    "        for s in range(60):\n",
    "            time=str(h)+str(m)+str(s)\n",
    "            if '3' in time:\n",
    "                result+=1\n",
    "            \n",
    "print(result)"
   ]
  },
  {
   "cell_type": "markdown",
   "id": "27303d49",
   "metadata": {},
   "source": [
    "## 왕실의 나이트"
   ]
  },
  {
   "cell_type": "code",
   "execution_count": 129,
   "id": "7bb10594",
   "metadata": {},
   "outputs": [
    {
     "name": "stdout",
     "output_type": "stream",
     "text": [
      "c2\n"
     ]
    }
   ],
   "source": [
    "where=input()\n",
    "x_index='abcdefgh'\n",
    "y=int(where[1])\n",
    "x=x_index.find(where[0])+1\n",
    "n=len(x_index)"
   ]
  },
  {
   "cell_type": "code",
   "execution_count": 130,
   "id": "4d5f2597",
   "metadata": {},
   "outputs": [
    {
     "name": "stdout",
     "output_type": "stream",
     "text": [
      "3 2\n"
     ]
    }
   ],
   "source": [
    "print(x, y)\n",
    "direction=['R','L','U','D']"
   ]
  },
  {
   "cell_type": "code",
   "execution_count": 131,
   "id": "2f10e113",
   "metadata": {},
   "outputs": [
    {
     "name": "stdout",
     "output_type": "stream",
     "text": [
      "6\n"
     ]
    }
   ],
   "source": [
    "dx=[1, -1, 0, 0]\n",
    "dy=[0,0,1,-1]\n",
    "result=0\n",
    "for i in range(len(direction)):\n",
    "    nx=x+2*dx[i]\n",
    "    ny=y+2*dy[i]\n",
    "    if ny==y:\n",
    "        for i in range(2):\n",
    "            ny=y+dy[i+2]\n",
    "            if nx>0 and nx<=n and ny>0 and nx<=n:\n",
    "                result+=1\n",
    "    if nx==x:\n",
    "        for i in range(2):\n",
    "            nx=x+dx[i]\n",
    "            if nx>0 and nx<=n and ny>0 and nx<=n:\n",
    "                result+=1\n",
    "print(result)"
   ]
  },
  {
   "cell_type": "markdown",
   "id": "95fd61dd",
   "metadata": {},
   "source": [
    "## 게임개발"
   ]
  },
  {
   "cell_type": "code",
   "execution_count": 101,
   "id": "30e5da78",
   "metadata": {},
   "outputs": [
    {
     "name": "stdout",
     "output_type": "stream",
     "text": [
      "4 4\n",
      "1 1 0\n"
     ]
    }
   ],
   "source": [
    "n, m = map(int,input().split())\n",
    "A, B, d = map(int, input().split())"
   ]
  },
  {
   "cell_type": "code",
   "execution_count": 102,
   "id": "d18c86dc",
   "metadata": {},
   "outputs": [
    {
     "name": "stdout",
     "output_type": "stream",
     "text": [
      "1 1 0\n"
     ]
    }
   ],
   "source": [
    "print(A,B,d)"
   ]
  },
  {
   "cell_type": "code",
   "execution_count": 103,
   "id": "b21ce211",
   "metadata": {},
   "outputs": [
    {
     "name": "stdout",
     "output_type": "stream",
     "text": [
      "1 1 1 1\n",
      "1 0 0 1\n",
      "1 1 0 1\n",
      "1 1 1 1\n"
     ]
    }
   ],
   "source": [
    "a=[]\n",
    "for i in range(n):\n",
    "        mapping=list(map(int, input().split()))\n",
    "        a.append(mapping)"
   ]
  },
  {
   "cell_type": "code",
   "execution_count": 104,
   "id": "17674fbb",
   "metadata": {},
   "outputs": [],
   "source": [
    "a[A][B]=1"
   ]
  },
  {
   "cell_type": "code",
   "execution_count": 105,
   "id": "19d7edf1",
   "metadata": {},
   "outputs": [],
   "source": [
    "direction=[0,1,2,3]\n",
    "dx=[0,+1,0,-1 ]\n",
    "dy=[-1,0,1,0]\n",
    "def rotate_turn(direction):\n",
    "    left_direction=direction-1 if direction!=0 else 3\n",
    "    return left_direction"
   ]
  },
  {
   "cell_type": "code",
   "execution_count": 106,
   "id": "dea94b31",
   "metadata": {},
   "outputs": [
    {
     "name": "stdout",
     "output_type": "stream",
     "text": [
      "1 2\n",
      "2 2\n",
      "3\n"
     ]
    }
   ],
   "source": [
    "count=1\n",
    "turn_time=0\n",
    "while True:\n",
    "    d=rotate_turn(d)\n",
    "    nx=A+dx[d]\n",
    "    ny=B+dy[d]\n",
    "    if a[nx][ny]==0 :\n",
    "        a[nx][ny]=1\n",
    "        A=nx\n",
    "        B=ny\n",
    "        count+=1\n",
    "        turn_time=0\n",
    "        continue\n",
    "    else:\n",
    "        turn_time+=1\n",
    "    if turn_time ==4:\n",
    "        nx=A-dx[d]\n",
    "        ny=B-dy[d]\n",
    "        if a[nx][ny]==0:\n",
    "            A=nx\n",
    "            B=ny\n",
    "        else:\n",
    "            break\n",
    "        turn_time=0\n",
    "        \n",
    "print(count)"
   ]
  },
  {
   "cell_type": "code",
   "execution_count": 100,
   "id": "e98cb36c",
   "metadata": {},
   "outputs": [
    {
     "name": "stdout",
     "output_type": "stream",
     "text": [
      "2 2 1\n"
     ]
    }
   ],
   "source": [
    "print(A,B,d)"
   ]
  },
  {
   "cell_type": "markdown",
   "id": "e5c19e5a",
   "metadata": {},
   "source": [
    "## 실전문제 09"
   ]
  },
  {
   "cell_type": "code",
   "execution_count": 175,
   "id": "d823940a",
   "metadata": {},
   "outputs": [
    {
     "name": "stdout",
     "output_type": "stream",
     "text": [
      "ababcdcdababcdcd\n"
     ]
    }
   ],
   "source": [
    "s=input()\n",
    "N=len(s)"
   ]
  },
  {
   "cell_type": "code",
   "execution_count": 178,
   "id": "58f3a964",
   "metadata": {},
   "outputs": [],
   "source": [
    "def solution(s):\n",
    "    N=len(s)\n",
    "    step=range(1,int(len(s)/2)+1)\n",
    "    w=0\n",
    "    result=''\n",
    "    final=N\n",
    "    for st in step:\n",
    "        spell=[]\n",
    "        for i in range(int(N/st)):\n",
    "            spell.append(s[st*i:st*(i+1)])\n",
    "        spell.append(s[st*(i+1):len(s)])\n",
    "        count=[1]+[0]*(len(spell)-1)\n",
    "        for j in range(1,len(spell)):\n",
    "            if spell[j]==spell[j-1]:\n",
    "                count[w]+=1\n",
    "            if spell[j]!=spell[j-1]:\n",
    "                w=j\n",
    "                count[w]+=1\n",
    "        result=''\n",
    "        w=0\n",
    "        for i in range(len(count)):\n",
    "            if count[i]==1:\n",
    "                result+=spell[i]\n",
    "            elif count[i]>1:\n",
    "                result+=str(count[i])+spell[i]\n",
    "        final=min(len(result), final)\n",
    "    return(final)"
   ]
  },
  {
   "cell_type": "code",
   "execution_count": 179,
   "id": "093196d1",
   "metadata": {},
   "outputs": [
    {
     "data": {
      "text/plain": [
       "9"
      ]
     },
     "execution_count": 179,
     "metadata": {},
     "output_type": "execute_result"
    }
   ],
   "source": [
    "solution(s)"
   ]
  },
  {
   "cell_type": "code",
   "execution_count": 180,
   "id": "928a56ab",
   "metadata": {},
   "outputs": [],
   "source": [
    "### 책 풀이\n",
    "def solution(s):\n",
    "    answer=len(s)\n",
    "    for step in range(1, len(s)//2+1):\n",
    "        compressed=''\n",
    "        prev=s[0:step]\n",
    "        count=1\n",
    "        for j in range(step, len(s),step):\n",
    "            if prev==s[j:j+step]:\n",
    "                count+=1\n",
    "            else:\n",
    "                compressed+=str(count)+prev if count>=2 else prev\n",
    "                prev=s[j:j+step]\n",
    "                count=1\n",
    "        compressed+=str(count)+prev if count>=2 else prev\n",
    "        answer=min(answer,len(compressed))\n",
    "    return answer"
   ]
  },
  {
   "cell_type": "code",
   "execution_count": 181,
   "id": "6f59c0da",
   "metadata": {},
   "outputs": [
    {
     "data": {
      "text/plain": [
       "9"
      ]
     },
     "execution_count": 181,
     "metadata": {},
     "output_type": "execute_result"
    }
   ],
   "source": [
    "solution(s)"
   ]
  },
  {
   "cell_type": "markdown",
   "id": "10b63be7",
   "metadata": {},
   "source": [
    "## 실전문제 10 : 자물쇠와 열쇠\n",
    "##### 책 참조했으나 통과 불가능 강의 듣는게 좋을듯 "
   ]
  },
  {
   "cell_type": "code",
   "execution_count": 107,
   "id": "c841ec1d",
   "metadata": {},
   "outputs": [],
   "source": [
    "## 암기 필요한 함수\n",
    "def rotate_a_matrix_by_90_degress(a):\n",
    "    n=len(a)\n",
    "    m=len(a[0])\n",
    "    result =[[0]*n for _ in range(m)]\n",
    "    for i in range(n):\n",
    "        for j in range(m):\n",
    "            result[j][n-i-1]=a[i][j]\n",
    "    return result"
   ]
  },
  {
   "cell_type": "code",
   "execution_count": 9,
   "id": "a0a570c1",
   "metadata": {},
   "outputs": [],
   "source": [
    "def check(new_lock):\n",
    "    lock_length=len(new_lock)//3\n",
    "    for i in range(lock_length, lock_length*2):\n",
    "        for j in range(lock_length, lock_length*2):\n",
    "            if new_lock[i][j]!=1:\n",
    "                return False\n",
    "        return True\n",
    "    \n",
    "def solution(key, lock):\n",
    "    n=len(lock)\n",
    "    m=len(key)\n",
    "    new_lock=[[0]*(n*3) for _ in range(n*3)]\n",
    "    for j in range(n):\n",
    "        for j in range(n):\n",
    "            new_lock[i+n][j+n]=lock[i][j]\n",
    "            \n",
    "            \n",
    "    for rotation in range(4):\n",
    "        key=rotate_a_matrix_by_90_degree(key)\n",
    "        for x in range(n*2):\n",
    "            for y in range(n*2):\n",
    "                for i in range(m):\n",
    "                    for j in range(m):\n",
    "                        new_lock[x+i][y+j]+=key[i][j]\n",
    "                if check(new_lock)==True:\n",
    "                    return True\n",
    "                for i in range(m):\n",
    "                    for j in range(m):\n",
    "                        new_lock[x+i][y+j]+=key[i][j]\n",
    "    return False"
   ]
  },
  {
   "cell_type": "code",
   "execution_count": 197,
   "id": "336dd70a",
   "metadata": {},
   "outputs": [],
   "source": [
    "lock=[[1,1,1],[1,1,0],[1,1,0]]\n",
    "key=[[0,0,0],[1,0,0],[0,1,1]]"
   ]
  },
  {
   "cell_type": "code",
   "execution_count": 198,
   "id": "22aec2ef",
   "metadata": {},
   "outputs": [],
   "source": [
    "n=len(lock)\n",
    "m=len(key)"
   ]
  },
  {
   "cell_type": "code",
   "execution_count": 199,
   "id": "b693b66b",
   "metadata": {},
   "outputs": [],
   "source": [
    "new_lock=[[0]*(n+2*(n-1)) for _ in range((n+2*(n-1)))]\n",
    "for j in range(n):\n",
    "    for i in range(n):\n",
    "        new_lock[i+(n-1)][j+(n-1)]=lock[i][j]"
   ]
  },
  {
   "cell_type": "code",
   "execution_count": 200,
   "id": "257a8f7b",
   "metadata": {},
   "outputs": [
    {
     "data": {
      "text/plain": [
       "[[0, 0, 0, 0, 0, 0, 0],\n",
       " [0, 0, 0, 0, 0, 0, 0],\n",
       " [0, 0, 1, 1, 1, 0, 0],\n",
       " [0, 0, 1, 1, 0, 0, 0],\n",
       " [0, 0, 1, 1, 0, 0, 0],\n",
       " [0, 0, 0, 0, 0, 0, 0],\n",
       " [0, 0, 0, 0, 0, 0, 0]]"
      ]
     },
     "execution_count": 200,
     "metadata": {},
     "output_type": "execute_result"
    }
   ],
   "source": [
    "new_lock"
   ]
  },
  {
   "cell_type": "code",
   "execution_count": 201,
   "id": "ec27effa",
   "metadata": {},
   "outputs": [],
   "source": [
    "def rotate_a_matrix_by_90_degress(a):\n",
    "    n=len(a)\n",
    "    m=len(a[0])\n",
    "    result =[[0]*n for _ in range(m)]\n",
    "    for i in range(n):\n",
    "        for j in range(m):\n",
    "            result[j][n-i-1]=a[i][j]\n",
    "    return result"
   ]
  },
  {
   "cell_type": "code",
   "execution_count": 202,
   "id": "c44ebc40",
   "metadata": {},
   "outputs": [],
   "source": [
    "def check(new_lock):\n",
    "    lock_length=len(lock)\n",
    "    for i in range(lock_length-1, lock_length*2-1):\n",
    "        for j in range(lock_length-1, lock_length*2-1):\n",
    "            if new_lock[i][j]!=1:\n",
    "                return False\n",
    "        return True"
   ]
  },
  {
   "cell_type": "code",
   "execution_count": 205,
   "id": "48e6fd4b",
   "metadata": {},
   "outputs": [
    {
     "ename": "IndentationError",
     "evalue": "unindent does not match any outer indentation level (<tokenize>, line 9)",
     "output_type": "error",
     "traceback": [
      "\u001b[1;36m  File \u001b[1;32m\"<tokenize>\"\u001b[1;36m, line \u001b[1;32m9\u001b[0m\n\u001b[1;33m    print(array)\u001b[0m\n\u001b[1;37m    ^\u001b[0m\n\u001b[1;31mIndentationError\u001b[0m\u001b[1;31m:\u001b[0m unindent does not match any outer indentation level\n"
     ]
    }
   ],
   "source": [
    "count=0\n",
    "while count<4:\n",
    "    array=new_lock\n",
    "    for i in range(len(new_lock)-(n-1)):\n",
    "        for j in range(len(new_lock)-(n-1)):\n",
    "            for x in range(n):\n",
    "                for j in range(n):\n",
    "                        new_lock[x+i][y+j]+=key[i][j]\n",
    "                    print(array)\n",
    "            if check(array)==True:\n",
    "                print('True')\n",
    "                break\n",
    "            else:\n",
    "                key=rotate_a_matrix_by_90_degress(key)\n",
    "                count+=1"
   ]
  },
  {
   "cell_type": "code",
   "execution_count": 196,
   "id": "b2691b5b",
   "metadata": {},
   "outputs": [
    {
     "data": {
      "text/plain": [
       "[[2517265, 4, 5, 0, 0, 0, 0],\n",
       " [2517250, 5, 6, 0, 0, 0, 0],\n",
       " [2517248, 2, 1, 1, 1, 0, 0],\n",
       " [2517250, 0, 0, 1, 0, 0, 0],\n",
       " [2517250, 0, 0, 1, 0, 0, 0],\n",
       " [0, 0, 0, 0, 0, 0, 0],\n",
       " [0, 0, 0, 0, 0, 0, 0]]"
      ]
     },
     "execution_count": 196,
     "metadata": {},
     "output_type": "execute_result"
    }
   ],
   "source": [
    "new_lock"
   ]
  },
  {
   "cell_type": "code",
   "execution_count": 190,
   "id": "8a332bed",
   "metadata": {},
   "outputs": [
    {
     "data": {
      "text/plain": [
       "False"
      ]
     },
     "execution_count": 190,
     "metadata": {},
     "output_type": "execute_result"
    }
   ],
   "source": [
    "check(new_lock)"
   ]
  },
  {
   "cell_type": "code",
   "execution_count": null,
   "id": "e7ea0efa",
   "metadata": {},
   "outputs": [],
   "source": []
  }
 ],
 "metadata": {
  "kernelspec": {
   "display_name": "Python 3",
   "language": "python",
   "name": "python3"
  },
  "language_info": {
   "codemirror_mode": {
    "name": "ipython",
    "version": 3
   },
   "file_extension": ".py",
   "mimetype": "text/x-python",
   "name": "python",
   "nbconvert_exporter": "python",
   "pygments_lexer": "ipython3",
   "version": "3.9.4"
  }
 },
 "nbformat": 4,
 "nbformat_minor": 5
}
