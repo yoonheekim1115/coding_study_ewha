{
 "cells": [
  {
   "cell_type": "markdown",
   "id": "defd5484",
   "metadata": {},
   "source": [
    "## 예제 3-1\n",
    "#### 거슬러줘야 될 돈이 N원일 때, 500 100 50 10 동전의 최소 개수"
   ]
  },
  {
   "cell_type": "code",
   "execution_count": 1,
   "id": "ef3ce8e7",
   "metadata": {},
   "outputs": [
    {
     "ename": "KeyboardInterrupt",
     "evalue": "Interrupted by user",
     "output_type": "error",
     "traceback": [
      "\u001b[1;31m---------------------------------------------------------------------------\u001b[0m",
      "\u001b[1;31mKeyboardInterrupt\u001b[0m                         Traceback (most recent call last)",
      "\u001b[1;32m<ipython-input-1-c165f5a39b87>\u001b[0m in \u001b[0;36m<module>\u001b[1;34m\u001b[0m\n\u001b[1;32m----> 1\u001b[1;33m \u001b[0mN\u001b[0m\u001b[1;33m=\u001b[0m\u001b[0mint\u001b[0m\u001b[1;33m(\u001b[0m\u001b[0minput\u001b[0m\u001b[1;33m(\u001b[0m\u001b[1;33m)\u001b[0m\u001b[1;33m)\u001b[0m\u001b[1;33m\u001b[0m\u001b[1;33m\u001b[0m\u001b[0m\n\u001b[0m\u001b[0;32m      2\u001b[0m \u001b[0mcoins\u001b[0m\u001b[1;33m=\u001b[0m\u001b[1;33m[\u001b[0m\u001b[1;36m500\u001b[0m\u001b[1;33m,\u001b[0m\u001b[1;36m100\u001b[0m\u001b[1;33m,\u001b[0m\u001b[1;36m50\u001b[0m\u001b[1;33m,\u001b[0m\u001b[1;36m10\u001b[0m\u001b[1;33m]\u001b[0m\u001b[1;33m\u001b[0m\u001b[1;33m\u001b[0m\u001b[0m\n\u001b[0;32m      3\u001b[0m \u001b[0mcount\u001b[0m\u001b[1;33m=\u001b[0m\u001b[1;36m0\u001b[0m\u001b[1;33m\u001b[0m\u001b[1;33m\u001b[0m\u001b[0m\n\u001b[0;32m      4\u001b[0m \u001b[1;32mfor\u001b[0m \u001b[0mcoin\u001b[0m \u001b[1;32min\u001b[0m \u001b[0mcoins\u001b[0m\u001b[1;33m:\u001b[0m\u001b[1;33m\u001b[0m\u001b[1;33m\u001b[0m\u001b[0m\n\u001b[0;32m      5\u001b[0m     \u001b[0mcount\u001b[0m\u001b[1;33m+=\u001b[0m\u001b[0mN\u001b[0m\u001b[1;33m//\u001b[0m\u001b[0mcoin\u001b[0m\u001b[1;33m\u001b[0m\u001b[1;33m\u001b[0m\u001b[0m\n",
      "\u001b[1;32mc:\\users\\user\\appdata\\local\\programs\\python\\python39\\lib\\site-packages\\ipykernel\\kernelbase.py\u001b[0m in \u001b[0;36mraw_input\u001b[1;34m(self, prompt)\u001b[0m\n\u001b[0;32m    846\u001b[0m                 \u001b[1;34m\"raw_input was called, but this frontend does not support input requests.\"\u001b[0m\u001b[1;33m\u001b[0m\u001b[1;33m\u001b[0m\u001b[0m\n\u001b[0;32m    847\u001b[0m             )\n\u001b[1;32m--> 848\u001b[1;33m         return self._input_request(str(prompt),\n\u001b[0m\u001b[0;32m    849\u001b[0m             \u001b[0mself\u001b[0m\u001b[1;33m.\u001b[0m\u001b[0m_parent_ident\u001b[0m\u001b[1;33m,\u001b[0m\u001b[1;33m\u001b[0m\u001b[1;33m\u001b[0m\u001b[0m\n\u001b[0;32m    850\u001b[0m             \u001b[0mself\u001b[0m\u001b[1;33m.\u001b[0m\u001b[0m_parent_header\u001b[0m\u001b[1;33m,\u001b[0m\u001b[1;33m\u001b[0m\u001b[1;33m\u001b[0m\u001b[0m\n",
      "\u001b[1;32mc:\\users\\user\\appdata\\local\\programs\\python\\python39\\lib\\site-packages\\ipykernel\\kernelbase.py\u001b[0m in \u001b[0;36m_input_request\u001b[1;34m(self, prompt, ident, parent, password)\u001b[0m\n\u001b[0;32m    890\u001b[0m             \u001b[1;32mexcept\u001b[0m \u001b[0mKeyboardInterrupt\u001b[0m\u001b[1;33m:\u001b[0m\u001b[1;33m\u001b[0m\u001b[1;33m\u001b[0m\u001b[0m\n\u001b[0;32m    891\u001b[0m                 \u001b[1;31m# re-raise KeyboardInterrupt, to truncate traceback\u001b[0m\u001b[1;33m\u001b[0m\u001b[1;33m\u001b[0m\u001b[1;33m\u001b[0m\u001b[0m\n\u001b[1;32m--> 892\u001b[1;33m                 \u001b[1;32mraise\u001b[0m \u001b[0mKeyboardInterrupt\u001b[0m\u001b[1;33m(\u001b[0m\u001b[1;34m\"Interrupted by user\"\u001b[0m\u001b[1;33m)\u001b[0m \u001b[1;32mfrom\u001b[0m \u001b[1;32mNone\u001b[0m\u001b[1;33m\u001b[0m\u001b[1;33m\u001b[0m\u001b[0m\n\u001b[0m\u001b[0;32m    893\u001b[0m             \u001b[1;32mexcept\u001b[0m \u001b[0mException\u001b[0m \u001b[1;32mas\u001b[0m \u001b[0me\u001b[0m\u001b[1;33m:\u001b[0m\u001b[1;33m\u001b[0m\u001b[1;33m\u001b[0m\u001b[0m\n\u001b[0;32m    894\u001b[0m                 \u001b[0mself\u001b[0m\u001b[1;33m.\u001b[0m\u001b[0mlog\u001b[0m\u001b[1;33m.\u001b[0m\u001b[0mwarning\u001b[0m\u001b[1;33m(\u001b[0m\u001b[1;34m\"Invalid Message:\"\u001b[0m\u001b[1;33m,\u001b[0m \u001b[0mexc_info\u001b[0m\u001b[1;33m=\u001b[0m\u001b[1;32mTrue\u001b[0m\u001b[1;33m)\u001b[0m\u001b[1;33m\u001b[0m\u001b[1;33m\u001b[0m\u001b[0m\n",
      "\u001b[1;31mKeyboardInterrupt\u001b[0m: Interrupted by user"
     ]
    }
   ],
   "source": [
    "N=int(input())\n",
    "coins=[500,100,50,10]\n",
    "count=0\n",
    "for coin in coins:\n",
    "    count+=N//coin\n",
    "    N=N%coin\n",
    "print(count)    "
   ]
  },
  {
   "cell_type": "markdown",
   "id": "c0121129",
   "metadata": {},
   "source": [
    "## 예제 3-2\n",
    "#### 큰 수의 법칙 : 총 M 번 더하여 큰 수를 만드는 법칙, 다만 특정한 수가 연속해서 K 번을 초과해서는 덧셈이 불가능\n",
    "#### 예 : [1,2,3] m=5 k=2 -> 3+3+2+3+3 "
   ]
  },
  {
   "cell_type": "code",
   "execution_count": 76,
   "id": "2124f270",
   "metadata": {},
   "outputs": [
    {
     "name": "stdout",
     "output_type": "stream",
     "text": [
      "5 8 3\n",
      "2 4 5 4 6\n"
     ]
    }
   ],
   "source": [
    "n,m,k = map(int, input().split())\n",
    "data=list(map(int,input().split()))"
   ]
  },
  {
   "cell_type": "code",
   "execution_count": 84,
   "id": "ea3dd34c",
   "metadata": {},
   "outputs": [
    {
     "name": "stdout",
     "output_type": "stream",
     "text": [
      "46\n"
     ]
    }
   ],
   "source": [
    "data.sort(reverse=True)\n",
    "a=m//(k+1) ## 몫\n",
    "b=m%(k+1) ## 나머지\n",
    "\n",
    "count=a*(data[0]*k+data[1])\n",
    "count+=data[0]*b\n",
    "print(count)\n",
    "## 내 풀이는 큰것 K번 두번쨰로 큰 수 1번을 묶은 집단을 상상해 보자 [a, a, a, b] 총 길이는 k+1이 된다."
   ]
  },
  {
   "cell_type": "code",
   "execution_count": 85,
   "id": "e05f0980",
   "metadata": {},
   "outputs": [
    {
     "name": "stdout",
     "output_type": "stream",
     "text": [
      "46\n"
     ]
    }
   ],
   "source": [
    "##### 교재 풀이\n",
    "data.sort()\n",
    "first=data[n-1]\n",
    "second=data[n-2]\n",
    "\n",
    "result=0\n",
    "while True:\n",
    "    for i in range(k):\n",
    "        if m==0:\n",
    "            break\n",
    "        result += first\n",
    "        m-=1\n",
    "    if m==0:\n",
    "        break\n",
    "    result+=second\n",
    "    m-=1\n",
    "    \n",
    "print(result)"
   ]
  },
  {
   "cell_type": "markdown",
   "id": "20aa8b9a",
   "metadata": {},
   "source": [
    "## 예제 3-3\n",
    "#### 숫자카드 게임 : 각 행의 가장 작은 수 선택, 뽑인 것중 가장 큰 것 선택"
   ]
  },
  {
   "cell_type": "code",
   "execution_count": 87,
   "id": "581dc592",
   "metadata": {},
   "outputs": [
    {
     "name": "stdout",
     "output_type": "stream",
     "text": [
      "3 3\n",
      "3 1 2\n",
      "4 1 4\n",
      "2 2 2 \n"
     ]
    },
    {
     "data": {
      "text/plain": [
       "2"
      ]
     },
     "execution_count": 87,
     "metadata": {},
     "output_type": "execute_result"
    }
   ],
   "source": [
    "n,m=map(int, input().split())\n",
    "a=[]\n",
    "for i in range(n):\n",
    "    data=list(map(int, input().split()))\n",
    "    min_value=min(data)\n",
    "    a.append(min_value)\n",
    "max(a)"
   ]
  },
  {
   "cell_type": "markdown",
   "id": "19109c66",
   "metadata": {},
   "source": [
    "## 예제 3-4\n",
    "#### 1이 될 때 까지 => step 1 : N-1  step 2 : N/K 나누어 떨어질때만 가능"
   ]
  },
  {
   "cell_type": "code",
   "execution_count": 101,
   "id": "9396501b",
   "metadata": {},
   "outputs": [
    {
     "name": "stdout",
     "output_type": "stream",
     "text": [
      "17 4\n",
      "3\n"
     ]
    }
   ],
   "source": [
    "n,k=map(int, input().split())\n",
    "count=0\n",
    "while n>0:\n",
    "    if n%k==0:\n",
    "        n=n/k\n",
    "        count+=1\n",
    "        if n==1:\n",
    "            break\n",
    "    elif n%k >0:\n",
    "        n=n-1\n",
    "        count+=1\n",
    "print(count)"
   ]
  },
  {
   "cell_type": "code",
   "execution_count": 104,
   "id": "df9f5e4a",
   "metadata": {},
   "outputs": [
    {
     "name": "stdout",
     "output_type": "stream",
     "text": [
      "2 3\n",
      "1\n"
     ]
    }
   ],
   "source": [
    "## 고려하지 못한 것 n이 k보다 작은 것 \n",
    "## 수정본\n",
    "n,k=map(int, input().split())\n",
    "count=0\n",
    "while n>=k:\n",
    "    if n%k==0:\n",
    "        n=n/k\n",
    "        count+=1\n",
    "        if n==1:\n",
    "            break\n",
    "    elif n%k >0:\n",
    "        n=n-1\n",
    "        count+=1\n",
    "while n>1:\n",
    "    n=n-1\n",
    "    count+=1\n",
    "print(count)"
   ]
  },
  {
   "cell_type": "code",
   "execution_count": 108,
   "id": "700a9933",
   "metadata": {},
   "outputs": [
    {
     "name": "stdout",
     "output_type": "stream",
     "text": [
      "17 4\n",
      "3\n"
     ]
    }
   ],
   "source": [
    "# 두개를 합친다면?\n",
    "n,k=map(int, input().split())\n",
    "count=0\n",
    "if n>=k:\n",
    "    while n>=k:\n",
    "        if n%k==0:\n",
    "            n=n/k\n",
    "            count+=1\n",
    "            if n==1:\n",
    "                break\n",
    "        elif n%k >0:\n",
    "            n=n-1\n",
    "            count+=1\n",
    "else:\n",
    "    while n>1:\n",
    "        n=n-1\n",
    "        count+=1\n",
    "print(count)"
   ]
  },
  {
   "cell_type": "markdown",
   "id": "a91ce31e",
   "metadata": {},
   "source": [
    "## 곱하기 또는 더하기 (pg.312)"
   ]
  },
  {
   "cell_type": "code",
   "execution_count": 110,
   "id": "fc619ee9",
   "metadata": {},
   "outputs": [
    {
     "name": "stdout",
     "output_type": "stream",
     "text": [
      "02984\n"
     ]
    }
   ],
   "source": [
    "data=input()"
   ]
  },
  {
   "cell_type": "code",
   "execution_count": 111,
   "id": "c2917e87",
   "metadata": {},
   "outputs": [
    {
     "data": {
      "text/plain": [
       "'0'"
      ]
     },
     "execution_count": 111,
     "metadata": {},
     "output_type": "execute_result"
    }
   ],
   "source": [
    "n=len(data)\n",
    "count=1\n",
    "for i in range(n):\n",
    "    if int(data[i])==0:\n",
    "        count=count+0\n",
    "    elif int(data[i])>0:\n",
    "        count=count*int(data[i])\n",
    "print(count)"
   ]
  },
  {
   "cell_type": "code",
   "execution_count": 1,
   "id": "47ea56b7",
   "metadata": {},
   "outputs": [
    {
     "name": "stdout",
     "output_type": "stream",
     "text": [
      "02984\n",
      "576\n"
     ]
    }
   ],
   "source": [
    "## n=1일때를 고려하지 못함 -> 더하는게 중요\n",
    "data=input()\n",
    "data2=[]\n",
    "for i in range(len(data)):\n",
    "    data2.append(int(data[i]))\n",
    "n=len(data)\n",
    "count=1\n",
    "for i in range(n):\n",
    "    if data2[i]==0:\n",
    "        count=count+0\n",
    "    if int(data2[i])==1:\n",
    "        data2[i+1]=int(data2[i+1])+1\n",
    "    elif int(data[i])>0:\n",
    "        count=count*int(data[i])\n",
    "print(count)"
   ]
  },
  {
   "cell_type": "markdown",
   "id": "7951db2c",
   "metadata": {},
   "source": [
    "## 모험가 길드"
   ]
  },
  {
   "cell_type": "code",
   "execution_count": 3,
   "id": "3f0b46d1",
   "metadata": {},
   "outputs": [
    {
     "name": "stdout",
     "output_type": "stream",
     "text": [
      "6\n",
      "1 1 2 2 2 2 \n"
     ]
    }
   ],
   "source": [
    "n=int(input())\n",
    "data=list(map(int, input().split()))\n",
    "data.sort(reverse=True)"
   ]
  },
  {
   "cell_type": "code",
   "execution_count": 4,
   "id": "679de1db",
   "metadata": {},
   "outputs": [
    {
     "name": "stdout",
     "output_type": "stream",
     "text": [
      "4\n"
     ]
    }
   ],
   "source": [
    "N=len(data)\n",
    "i=0\n",
    "count=0\n",
    "while i<N:\n",
    "    if data[data[i]]<1:\n",
    "        break\n",
    "    elif data[data[i]]>=1 :\n",
    "        count=count+1\n",
    "        i=i+data[i]\n",
    "print(count)"
   ]
  },
  {
   "cell_type": "markdown",
   "id": "54c4cc06",
   "metadata": {},
   "source": [
    "## 문자열 뒤집기"
   ]
  },
  {
   "cell_type": "code",
   "execution_count": 32,
   "id": "68345609",
   "metadata": {},
   "outputs": [
    {
     "name": "stdout",
     "output_type": "stream",
     "text": [
      "101\n"
     ]
    }
   ],
   "source": [
    "data=input()"
   ]
  },
  {
   "cell_type": "code",
   "execution_count": 33,
   "id": "dc421f1e",
   "metadata": {},
   "outputs": [
    {
     "name": "stdout",
     "output_type": "stream",
     "text": [
      "1\n"
     ]
    }
   ],
   "source": [
    "c=[]\n",
    "for i in range(len(data)):\n",
    "    c.append(int(data[i]))\n",
    "\n",
    "count=[0,0]\n",
    "if int(data[0])==0:\n",
    "    count[0]+=1\n",
    "elif int(data[0])==1:\n",
    "    count[1]+=1\n",
    "    \n",
    "for i in range(1,len(data)):   \n",
    "    if c[i]!=c[i-1]:\n",
    "        count[c[i]]=count[c[i]]+1\n",
    "print(min(count))"
   ]
  },
  {
   "cell_type": "markdown",
   "id": "b9a09aa9",
   "metadata": {},
   "source": [
    "## 만들 수 없는 금액"
   ]
  },
  {
   "cell_type": "code",
   "execution_count": 36,
   "id": "193d4625",
   "metadata": {},
   "outputs": [
    {
     "name": "stdout",
     "output_type": "stream",
     "text": [
      "5\n",
      "3 2 1 1 9\n"
     ]
    }
   ],
   "source": [
    "n=int(input())\n",
    "coins=list(map(int, input().split()))"
   ]
  },
  {
   "cell_type": "code",
   "execution_count": 37,
   "id": "79782b2a",
   "metadata": {},
   "outputs": [
    {
     "data": {
      "text/plain": [
       "[3, 2, 1, 1, 9]"
      ]
     },
     "execution_count": 37,
     "metadata": {},
     "output_type": "execute_result"
    }
   ],
   "source": [
    "coins"
   ]
  },
  {
   "cell_type": "code",
   "execution_count": null,
   "id": "bf080602",
   "metadata": {},
   "outputs": [],
   "source": []
  }
 ],
 "metadata": {
  "kernelspec": {
   "display_name": "Python 3",
   "language": "python",
   "name": "python3"
  },
  "language_info": {
   "codemirror_mode": {
    "name": "ipython",
    "version": 3
   },
   "file_extension": ".py",
   "mimetype": "text/x-python",
   "name": "python",
   "nbconvert_exporter": "python",
   "pygments_lexer": "ipython3",
   "version": "3.9.4"
  }
 },
 "nbformat": 4,
 "nbformat_minor": 5
}
