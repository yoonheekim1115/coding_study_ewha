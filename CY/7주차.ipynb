{
 "cells": [
  {
   "cell_type": "markdown",
   "id": "ea1a8034",
   "metadata": {},
   "source": [
    "# chapter 09 최단 경로"
   ]
  },
  {
   "cell_type": "markdown",
   "id": "386ef0f0",
   "metadata": {},
   "source": [
    "# 9-1"
   ]
  },
  {
   "cell_type": "code",
   "execution_count": null,
   "id": "07fcc42b",
   "metadata": {},
   "outputs": [],
   "source": [
    "INF=int(1e9)"
   ]
  },
  {
   "cell_type": "code",
   "execution_count": null,
   "id": "0f95fb98",
   "metadata": {},
   "outputs": [],
   "source": [
    "n, m=map(int, input().split())\n",
    "start=int(input())\n",
    "graph=[[] for i in range(n+1)]\n",
    "visited=[False]*(n+1)\n",
    "distance=[INF]*(n+1)\n",
    "\n",
    "for _ in range(m):\n",
    "    a, b, c= map(int, input().split())\n",
    "    graph[a].append((b,c))\n",
    "\n",
    "def get_smallest_node():\n",
    "    min_value=INF\n",
    "    index=0\n",
    "    for i in range(1,n+1):\n",
    "        if distance[i]<min_value and not visited[i]:\n",
    "            min_value=distance[i]\n",
    "            index=i\n",
    "    return index\n",
    "\n",
    "def dijkstra(start):\n",
    "    distance[start]=0\n",
    "    visited[start]=True\n",
    "    for j in graph[start]:\n",
    "        distance[j[0]]=j[1]\n",
    "        \n",
    "    for i in range(n-1):\n",
    "        now=get_smallest_node()\n",
    "        visited[now]=True\n",
    "        for j in graph[now]:\n",
    "            cost=distance[now]+j[1]\n",
    "            if cost<distance[j[0]]:\n",
    "                distance[j[0]]=cost\n",
    "dijkstra(start)\n",
    "\n",
    "for i in range(1,n+1):\n",
    "    if distance[i]==INF:\n",
    "        print(\"inFINITY\")\n",
    "    else:\n",
    "        print(distance[i])"
   ]
  },
  {
   "cell_type": "markdown",
   "id": "6cd403b0",
   "metadata": {},
   "source": [
    "# 9-2"
   ]
  },
  {
   "cell_type": "code",
   "execution_count": null,
   "id": "4abd6bf2",
   "metadata": {},
   "outputs": [],
   "source": [
    "import heapq\n",
    "n, m=map(int, input().split())\n",
    "start=int(input())\n",
    "graph=[[] for i in range(n+1)]\n",
    "visited=[False]*(n+1)\n",
    "distance=[INF]*(n+1)\n",
    "\n",
    "for _ in range(m):\n",
    "    a, b, c= map(int, input().split())\n",
    "    graph[a].append((b,c))\n",
    "\n",
    "def dijkstra(start):\n",
    "    q=[]\n",
    "    heapq.heappush(q, (0,start))\n",
    "    distance[start]=0\n",
    "    while q:\n",
    "        dist, now=heapq.heappop(q)\n",
    "        print(dist,now)\n",
    "        if distance[now]<dist:\n",
    "            continue\n",
    "        for i in graph[now]:\n",
    "            cost=dist+i[1]\n",
    "            if cost<distance[i[0]]:\n",
    "                distance[i[0]]=cost\n",
    "                heapq.heappush(q, (cost,i[0]))\n",
    "                \n",
    "dijkstra(start)\n",
    "\n",
    "for i in range(1,n+1):\n",
    "    if distance[i]==INF:\n",
    "        print(\"infinity\")\n",
    "    else:\n",
    "        print(distance[i])"
   ]
  },
  {
   "cell_type": "markdown",
   "id": "bcb11aa5",
   "metadata": {},
   "source": [
    "# 9-3"
   ]
  },
  {
   "cell_type": "code",
   "execution_count": 3,
   "id": "f18e69d4",
   "metadata": {},
   "outputs": [
    {
     "name": "stdout",
     "output_type": "stream",
     "text": [
      "4\n",
      "7\n"
     ]
    }
   ],
   "source": [
    "n=int(input())\n",
    "m=int(input())"
   ]
  },
  {
   "cell_type": "code",
   "execution_count": 6,
   "id": "bda09f26",
   "metadata": {},
   "outputs": [
    {
     "name": "stdout",
     "output_type": "stream",
     "text": [
      "1 2 4\n",
      "1 4 6\n",
      "2 1 3\n",
      "2 3 7\n",
      "3 1 5\n",
      "3 4 4\n",
      "4 3 2\n",
      "0 4 8 6 \n",
      "3 0 7 9 \n",
      "5 9 0 4 \n",
      "7 11 2 0 \n"
     ]
    }
   ],
   "source": [
    "INF=1e9\n",
    "graph=[[INF]*(n+1) for _ in range(n+1)]\n",
    "for a in range(1, n+1):\n",
    "    for b in range(1, n+1):\n",
    "        if a==b:\n",
    "            graph[a][b]=0\n",
    "            \n",
    "for _ in range(m):\n",
    "    a, b, c=map(int, input().split())\n",
    "    graph[a][b]=c\n",
    "\n",
    "for k in range(1, n+1):\n",
    "    for a in range(1, n+1):\n",
    "        for b in range(1,n+1):\n",
    "            graph[a][b]=min(graph[a][b], graph[a][k]+graph[k][b])\n",
    "\n",
    "for a in range(1, n+1):\n",
    "    for b in range(1, n+1):\n",
    "        if graph[a][b]==INF:\n",
    "            print('INF', end=' ')\n",
    "        else:\n",
    "            print(graph[a][b], end=' ')\n",
    "    print()"
   ]
  },
  {
   "cell_type": "markdown",
   "id": "16bf52fb",
   "metadata": {},
   "source": [
    "# 미래도시"
   ]
  },
  {
   "cell_type": "code",
   "execution_count": 55,
   "id": "ea04e712",
   "metadata": {},
   "outputs": [
    {
     "name": "stdout",
     "output_type": "stream",
     "text": [
      "4 2\n"
     ]
    }
   ],
   "source": [
    "n,m= map(int, input().split())"
   ]
  },
  {
   "cell_type": "code",
   "execution_count": 56,
   "id": "99cd6924",
   "metadata": {},
   "outputs": [
    {
     "name": "stdout",
     "output_type": "stream",
     "text": [
      "3 4\n"
     ]
    }
   ],
   "source": [
    "x, k= map(int, input().split())"
   ]
  },
  {
   "cell_type": "code",
   "execution_count": 59,
   "id": "02d0b0c2",
   "metadata": {},
   "outputs": [
    {
     "name": "stdout",
     "output_type": "stream",
     "text": [
      "4 2\n",
      "1 3\n",
      "-1\n"
     ]
    }
   ],
   "source": [
    "INF=1e9\n",
    "graph=[[INF]*(n+1) for _ in range(n+1)]\n",
    "for a in range(1, n+1):\n",
    "    for b in range(1, n+1):\n",
    "        if a==b:\n",
    "            graph[a][b]=0\n",
    "            \n",
    "for _ in range(m):\n",
    "    a, b=map(int, input().split())\n",
    "    graph[a][b]=1\n",
    "    graph[b][a]=1\n",
    "\n",
    "for k in range(1, n+1):\n",
    "    for a in range(1, n+1):\n",
    "        for b in range(1,n+1):\n",
    "            graph[a][b]=min(graph[a][b], graph[a][k]+graph[k][b])\n",
    "            \n",
    "\n",
    "if graph[1][k]+graph[k][x] >= INF:\n",
    "    print(-1)\n",
    "else:\n",
    "    print(graph[1][k]+graph[k][x])"
   ]
  },
  {
   "cell_type": "markdown",
   "id": "02beb70e",
   "metadata": {},
   "source": [
    "# 전보"
   ]
  },
  {
   "cell_type": "code",
   "execution_count": 61,
   "id": "3dc841e0",
   "metadata": {},
   "outputs": [
    {
     "name": "stdout",
     "output_type": "stream",
     "text": [
      "3 2 1\n"
     ]
    }
   ],
   "source": [
    "n,m,c= map(int, input().split())"
   ]
  },
  {
   "cell_type": "code",
   "execution_count": 75,
   "id": "c9430bb0",
   "metadata": {},
   "outputs": [
    {
     "name": "stdout",
     "output_type": "stream",
     "text": [
      "1 2 4\n",
      "1 3 2\n"
     ]
    }
   ],
   "source": [
    "graph=[[] for i in range(n+1)]\n",
    "for _ in range(m):\n",
    "    x, y, z = map(int, input().split())\n",
    "    graph[x].append((y, z))"
   ]
  },
  {
   "cell_type": "code",
   "execution_count": 81,
   "id": "55c32944",
   "metadata": {},
   "outputs": [
    {
     "name": "stdout",
     "output_type": "stream",
     "text": [
      "2 4\n"
     ]
    }
   ],
   "source": [
    "def dijkstra(start):\n",
    "    q=[]\n",
    "    heapq.heappush(q, (0,start))\n",
    "    distance[start]=0\n",
    "    while q:\n",
    "        dist, now=heapq.heappop(q)\n",
    "        if distance[now]<dist:\n",
    "            continue\n",
    "        for i in graph[now]:\n",
    "            cost=dist+i[1]\n",
    "            if cost<distance[i[0]]:\n",
    "                distance[i[0]]=cost\n",
    "                heapq.heappush(q, (cost,i[0]))\n",
    "                \n",
    "dijkstra(c)\n",
    "count=0\n",
    "max_distance=0\n",
    "for d in distance:\n",
    "    if d!=INF:\n",
    "        count+=1\n",
    "        max_distance=max(max_distance, d)\n",
    "print(count-1, max_distance)"
   ]
  },
  {
   "cell_type": "markdown",
   "id": "3f5d77a8",
   "metadata": {},
   "source": [
    "# Q31 금광"
   ]
  },
  {
   "cell_type": "code",
   "execution_count": 147,
   "id": "9c954f31",
   "metadata": {},
   "outputs": [
    {
     "name": "stdout",
     "output_type": "stream",
     "text": [
      "3 4\n"
     ]
    }
   ],
   "source": [
    "n, m= map(int, input().split())"
   ]
  },
  {
   "cell_type": "code",
   "execution_count": 148,
   "id": "60723336",
   "metadata": {},
   "outputs": [
    {
     "name": "stdout",
     "output_type": "stream",
     "text": [
      "1 3 3 2 2 1 4 1 0 6 4 7\n"
     ]
    }
   ],
   "source": [
    "graph=list(map(int,input().split()))\n",
    "gold=[[0]*(n*m) for i in range(n)]"
   ]
  },
  {
   "cell_type": "code",
   "execution_count": 152,
   "id": "fc443776",
   "metadata": {},
   "outputs": [],
   "source": [
    "from collections import deque\n",
    "dx=[-(m-1), +1, +(m+1)]\n",
    "for i in range(3):\n",
    "    start=m*i\n",
    "    gold[i][start]=graph[start]\n",
    "    q=deque()\n",
    "    while (start+1)%m !=0:\n",
    "        for d in dx:\n",
    "            nx=start+d\n",
    "            if nx >= 0 and nx<=(n*m):\n",
    "                gold[i][nx]=max(graph[nx]+gold[i][start], gold[i][nx])\n",
    "                q.append(nx)\n",
    "        start=q.popleft()"
   ]
  },
  {
   "cell_type": "code",
   "execution_count": 153,
   "id": "9ed0894e",
   "metadata": {},
   "outputs": [
    {
     "name": "stdout",
     "output_type": "stream",
     "text": [
      "19\n"
     ]
    }
   ],
   "source": [
    "max_num=[]\n",
    "for i in range(len(gold)):\n",
    "    max_num.append(max(gold[i]))\n",
    "print(max(max_num))"
   ]
  },
  {
   "cell_type": "markdown",
   "id": "20855c9d",
   "metadata": {},
   "source": [
    "# Q33 퇴사"
   ]
  },
  {
   "cell_type": "code",
   "execution_count": 487,
   "id": "a596f9ae",
   "metadata": {},
   "outputs": [
    {
     "name": "stdout",
     "output_type": "stream",
     "text": [
      "10\n",
      "1 1\n",
      "1 2\n",
      "1 3\n",
      "1 4\n",
      "1 5\n",
      "1 6\n",
      "1 7\n",
      "1 8\n",
      "1 9\n",
      "1 10\n"
     ]
    }
   ],
   "source": [
    "n=int(input())\n",
    "T=[]\n",
    "P=[]\n",
    "for _ in range(n):\n",
    "    x, y= map(int, input().split())\n",
    "    T.append(x)\n",
    "    P.append(y)"
   ]
  },
  {
   "cell_type": "code",
   "execution_count": 492,
   "id": "109e44db",
   "metadata": {},
   "outputs": [],
   "source": [
    "def moving(start):\n",
    "    result=0\n",
    "    let=[0]*n\n",
    "    ds=start+T[start]\n",
    "    if ds<=n:\n",
    "        let[start]=1\n",
    "    for i in range(ds, n):\n",
    "        if T[i]+i<=n:\n",
    "            let[i]=1\n",
    "            result=max(sum([x*y for x,y in zip(let,P)]), result)\n",
    "            moving(i)\n",
    "    return result"
   ]
  },
  {
   "cell_type": "code",
   "execution_count": 493,
   "id": "c63a8b52",
   "metadata": {},
   "outputs": [
    {
     "name": "stdout",
     "output_type": "stream",
     "text": [
      "55\n"
     ]
    }
   ],
   "source": [
    "final=0\n",
    "for i in range(n):\n",
    "    final=max(final, moving(i))\n",
    "print(final)"
   ]
  },
  {
   "cell_type": "code",
   "execution_count": null,
   "id": "40ceddc8",
   "metadata": {},
   "outputs": [],
   "source": []
  }
 ],
 "metadata": {
  "kernelspec": {
   "display_name": "Python 3",
   "language": "python",
   "name": "python3"
  },
  "language_info": {
   "codemirror_mode": {
    "name": "ipython",
    "version": 3
   },
   "file_extension": ".py",
   "mimetype": "text/x-python",
   "name": "python",
   "nbconvert_exporter": "python",
   "pygments_lexer": "ipython3",
   "version": "3.9.4"
  }
 },
 "nbformat": 4,
 "nbformat_minor": 5
}
