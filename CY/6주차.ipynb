{
 "cells": [
  {
   "cell_type": "markdown",
   "id": "84d462db",
   "metadata": {},
   "source": [
    "# 8-2"
   ]
  },
  {
   "cell_type": "code",
   "execution_count": 6,
   "id": "efedf6d0",
   "metadata": {},
   "outputs": [
    {
     "name": "stdout",
     "output_type": "stream",
     "text": [
      "89\n"
     ]
    }
   ],
   "source": [
    "d=[0]*100\n",
    "def fibo(x):\n",
    "    if x==1 or x==2:\n",
    "        return 1\n",
    "    if d[x]!=0:\n",
    "        return d[x]\n",
    "    d[x]=fibo(x-1)+fibo(x-2)\n",
    "    return d[x]\n",
    "\n",
    "print(fibo(11))"
   ]
  },
  {
   "cell_type": "markdown",
   "id": "6251847b",
   "metadata": {},
   "source": [
    "# 8-3"
   ]
  },
  {
   "cell_type": "code",
   "execution_count": 9,
   "id": "dca81d5b",
   "metadata": {},
   "outputs": [
    {
     "name": "stdout",
     "output_type": "stream",
     "text": [
      "f(6) f(5) f(4) f(3) f(2) f(1) f(2) f(3) f(4) "
     ]
    },
    {
     "data": {
      "text/plain": [
       "8"
      ]
     },
     "execution_count": 9,
     "metadata": {},
     "output_type": "execute_result"
    }
   ],
   "source": [
    "d=[0]*100\n",
    "def pibo(x):\n",
    "    print('f('+str(x)+')',end=' ')\n",
    "    if x==1 or x==2:\n",
    "        return 1\n",
    "    if d[x]!=0:\n",
    "        return d[x]\n",
    "    d[x]=pibo(x-1)+pibo(x-2)\n",
    "    return d[x]\n",
    "pibo(6)"
   ]
  },
  {
   "cell_type": "markdown",
   "id": "2f94cbb2",
   "metadata": {},
   "source": [
    "# 8-4"
   ]
  },
  {
   "cell_type": "code",
   "execution_count": 12,
   "id": "1b679d84",
   "metadata": {},
   "outputs": [
    {
     "name": "stdout",
     "output_type": "stream",
     "text": [
      "10\n",
      "55\n"
     ]
    }
   ],
   "source": [
    "n=int(input())\n",
    "d=[0]*100\n",
    "d[1]=1\n",
    "d[2]=1\n",
    "for i in range(3, n+1):\n",
    "    d[i]=d[i-2]+d[i-1]\n",
    "print(d[n])"
   ]
  },
  {
   "cell_type": "markdown",
   "id": "d0ba803e",
   "metadata": {},
   "source": [
    "# 8-5"
   ]
  },
  {
   "cell_type": "code",
   "execution_count": 14,
   "id": "f515f65d",
   "metadata": {},
   "outputs": [
    {
     "name": "stdout",
     "output_type": "stream",
     "text": [
      "26\n"
     ]
    }
   ],
   "source": [
    "x=int(input())"
   ]
  },
  {
   "cell_type": "code",
   "execution_count": 15,
   "id": "55d63ec4",
   "metadata": {},
   "outputs": [
    {
     "name": "stdout",
     "output_type": "stream",
     "text": [
      "3\n"
     ]
    }
   ],
   "source": [
    "d=[0]*30001\n",
    "for i in range(2, x+1):\n",
    "    d[i]=d[i-1]+1\n",
    "    if i % 2==0 :\n",
    "        d[i]=min(d[i], d[i//2]+1)\n",
    "    if i%3 ==0:\n",
    "        d[i]=min(d[i], d[i//3]+1)\n",
    "    if i%5==0:\n",
    "        d[i]=min(d[i], d[i//5]+1)\n",
    "print(d[x])"
   ]
  },
  {
   "cell_type": "markdown",
   "id": "4442ee3b",
   "metadata": {},
   "source": [
    "# 8-6"
   ]
  },
  {
   "cell_type": "code",
   "execution_count": 1,
   "id": "fe9f10e2",
   "metadata": {},
   "outputs": [
    {
     "name": "stdout",
     "output_type": "stream",
     "text": [
      "4\n",
      "1 3 1 5\n"
     ]
    }
   ],
   "source": [
    "n=int(input())\n",
    "k=list(map(int, input().split()))"
   ]
  },
  {
   "cell_type": "code",
   "execution_count": 2,
   "id": "8eb2020b",
   "metadata": {},
   "outputs": [
    {
     "name": "stdout",
     "output_type": "stream",
     "text": [
      "8\n"
     ]
    }
   ],
   "source": [
    "d=[0]*100\n",
    "d[0]=k[0]\n",
    "d[1]=max(k[0], k[1])\n",
    "for i in range(2, n):\n",
    "    d[i]=max(d[i-1], d[i-2]+k[i])\n",
    "print(d[n-1])"
   ]
  },
  {
   "cell_type": "markdown",
   "id": "3409a618",
   "metadata": {},
   "source": [
    "# 8-7"
   ]
  },
  {
   "cell_type": "code",
   "execution_count": 26,
   "id": "db03c711",
   "metadata": {},
   "outputs": [
    {
     "name": "stdout",
     "output_type": "stream",
     "text": [
      "3\n"
     ]
    }
   ],
   "source": [
    "n=int(input())"
   ]
  },
  {
   "cell_type": "code",
   "execution_count": 30,
   "id": "729418cd",
   "metadata": {},
   "outputs": [
    {
     "name": "stdout",
     "output_type": "stream",
     "text": [
      "5\n"
     ]
    }
   ],
   "source": [
    "d=[0]*1001\n",
    "d[1]=1\n",
    "d[2]=3\n",
    "for i in range(3, n+1):\n",
    "    d[i]=(d[i-1]+d[i-2]*2)%796796\n",
    "print(d[n])"
   ]
  },
  {
   "cell_type": "markdown",
   "id": "8243e35f",
   "metadata": {},
   "source": [
    "## 8-8"
   ]
  },
  {
   "cell_type": "code",
   "execution_count": 60,
   "id": "28cae753",
   "metadata": {},
   "outputs": [
    {
     "name": "stdout",
     "output_type": "stream",
     "text": [
      "2 15\n"
     ]
    }
   ],
   "source": [
    "n, m = map(int, input().split())"
   ]
  },
  {
   "cell_type": "code",
   "execution_count": 61,
   "id": "76814b72",
   "metadata": {},
   "outputs": [
    {
     "name": "stdout",
     "output_type": "stream",
     "text": [
      "2\n",
      "3\n"
     ]
    }
   ],
   "source": [
    "array=[]\n",
    "for i in range(n):\n",
    "    array.append(int(input()))"
   ]
  },
  {
   "cell_type": "code",
   "execution_count": 62,
   "id": "393670d6",
   "metadata": {},
   "outputs": [],
   "source": [
    "d=[10001]*(m+1)"
   ]
  },
  {
   "cell_type": "code",
   "execution_count": 63,
   "id": "785c0147",
   "metadata": {},
   "outputs": [],
   "source": [
    "d[0]=0"
   ]
  },
  {
   "cell_type": "code",
   "execution_count": 58,
   "id": "22aad775",
   "metadata": {},
   "outputs": [
    {
     "name": "stdout",
     "output_type": "stream",
     "text": [
      "5\n"
     ]
    }
   ],
   "source": [
    "for i in range(n):\n",
    "    for j in range(array[i], m+1):\n",
    "        if d[j-array[i]] != 10001:\n",
    "            d[j]=min(d[j], d[j-array[i]]+1)\n",
    "if d[m]==10001:\n",
    "    print(-1)\n",
    "else:\n",
    "    print(d[m])"
   ]
  },
  {
   "cell_type": "code",
   "execution_count": 59,
   "id": "9eac1459",
   "metadata": {},
   "outputs": [
    {
     "data": {
      "text/plain": [
       "[0, 10001, 1, 1, 2, 2, 2, 3, 3, 3, 4, 4, 4, 5, 5, 5]"
      ]
     },
     "execution_count": 59,
     "metadata": {},
     "output_type": "execute_result"
    }
   ],
   "source": [
    "d"
   ]
  },
  {
   "cell_type": "markdown",
   "id": "cd1c6400",
   "metadata": {},
   "source": [
    "# Q26"
   ]
  },
  {
   "cell_type": "code",
   "execution_count": 168,
   "id": "80277da6",
   "metadata": {},
   "outputs": [
    {
     "name": "stdout",
     "output_type": "stream",
     "text": [
      "4\n"
     ]
    }
   ],
   "source": [
    "n=int(input())"
   ]
  },
  {
   "cell_type": "code",
   "execution_count": 169,
   "id": "6fb68518",
   "metadata": {},
   "outputs": [
    {
     "name": "stdout",
     "output_type": "stream",
     "text": [
      "10\n",
      "10\n",
      "20\n",
      "30\n"
     ]
    }
   ],
   "source": [
    "array=[]\n",
    "for i in range(n):\n",
    "    array.append(int(input()))"
   ]
  },
  {
   "cell_type": "code",
   "execution_count": 170,
   "id": "443acf9c",
   "metadata": {},
   "outputs": [
    {
     "name": "stdout",
     "output_type": "stream",
     "text": [
      "130\n"
     ]
    }
   ],
   "source": [
    "array.sort()\n",
    "if len(array)==1:\n",
    "    print(array[0])\n",
    "else :\n",
    "    result=(array[0]+array[1])*(len(array)-1)\n",
    "    for i in range(1, len(array)-1):\n",
    "        result+=i*array[len(array)-i]\n",
    "    print(result)"
   ]
  },
  {
   "cell_type": "markdown",
   "id": "71d45d03",
   "metadata": {},
   "source": [
    "# Q27"
   ]
  },
  {
   "cell_type": "code",
   "execution_count": 54,
   "id": "63d88f6e",
   "metadata": {},
   "outputs": [
    {
     "name": "stdout",
     "output_type": "stream",
     "text": [
      "7 2\n"
     ]
    }
   ],
   "source": [
    "n, x= map(int, input().split())"
   ]
  },
  {
   "cell_type": "code",
   "execution_count": 55,
   "id": "637142fc",
   "metadata": {},
   "outputs": [
    {
     "name": "stdout",
     "output_type": "stream",
     "text": [
      "1 1 2 2 2 2 3\n"
     ]
    }
   ],
   "source": [
    "array=list(map(int, input().split()))"
   ]
  },
  {
   "cell_type": "code",
   "execution_count": 59,
   "id": "6d438798",
   "metadata": {},
   "outputs": [
    {
     "name": "stdout",
     "output_type": "stream",
     "text": [
      "4\n"
     ]
    }
   ],
   "source": [
    "count=0\n",
    "array.sort()\n",
    "for i in range(n):\n",
    "    if array[i]<x or array[i]>x:\n",
    "        count+=1\n",
    "if count==n:\n",
    "    print(-1)\n",
    "else:\n",
    "    print(n-count)"
   ]
  },
  {
   "cell_type": "code",
   "execution_count": 60,
   "id": "06551861",
   "metadata": {},
   "outputs": [
    {
     "name": "stdout",
     "output_type": "stream",
     "text": [
      "4\n"
     ]
    }
   ],
   "source": [
    "from bisect import bisect_left, bisect_right\n",
    "def count_by_range(array, left_value, right_value):\n",
    "    right_index=bisect_right(array, right_value)\n",
    "    left_index=bisect_left(array, left_value)\n",
    "    return right_index-left_index\n",
    "count=count_by_range(array, x, x)\n",
    "if count==0:\n",
    "    print(-1)\n",
    "else:\n",
    "    print(count)"
   ]
  },
  {
   "cell_type": "markdown",
   "id": "6fbfaa77",
   "metadata": {},
   "source": [
    "# Q28"
   ]
  },
  {
   "cell_type": "code",
   "execution_count": 3,
   "id": "7c3da590",
   "metadata": {},
   "outputs": [
    {
     "name": "stdout",
     "output_type": "stream",
     "text": [
      "5\n",
      "-15 7 1 3 7\n"
     ]
    }
   ],
   "source": [
    "n=int(input())\n",
    "array=list(map(int, input().split()))"
   ]
  },
  {
   "cell_type": "code",
   "execution_count": 75,
   "id": "3e0934a3",
   "metadata": {},
   "outputs": [
    {
     "name": "stdout",
     "output_type": "stream",
     "text": [
      "3\n"
     ]
    }
   ],
   "source": [
    "for i in range(len(array)):\n",
    "    if bisect_left(array, array[i])==array[i]:\n",
    "        print( array[i])"
   ]
  },
  {
   "cell_type": "code",
   "execution_count": 9,
   "id": "113afec0",
   "metadata": {},
   "outputs": [],
   "source": [
    "def binary_search(array, start, end):\n",
    "    if start>end:\n",
    "        return None\n",
    "    mid=(start+end)//2\n",
    "    if array[mid]==mid:\n",
    "        return mid\n",
    "    elif array[mid]>mid:\n",
    "        return binary_search(array, start, mid-1)\n",
    "    elif array[mid]<mid:\n",
    "        return binary_search(array, mid+1, end)"
   ]
  },
  {
   "cell_type": "code",
   "execution_count": 10,
   "id": "0077bfe6",
   "metadata": {},
   "outputs": [
    {
     "name": "stdout",
     "output_type": "stream",
     "text": [
      "3\n"
     ]
    }
   ],
   "source": [
    "index=binary_search(array, 0, n-1)\n",
    "if index==None:\n",
    "    print(-1)\n",
    "else:\n",
    "    print(index)"
   ]
  },
  {
   "cell_type": "markdown",
   "id": "8395acd3",
   "metadata": {},
   "source": [
    "# Q29"
   ]
  },
  {
   "cell_type": "code",
   "execution_count": 44,
   "id": "03b3f832",
   "metadata": {},
   "outputs": [
    {
     "name": "stdout",
     "output_type": "stream",
     "text": [
      "5 3\n"
     ]
    }
   ],
   "source": [
    "n, c = map(int, input().split())"
   ]
  },
  {
   "cell_type": "code",
   "execution_count": 45,
   "id": "fdbf491d",
   "metadata": {},
   "outputs": [
    {
     "name": "stdout",
     "output_type": "stream",
     "text": [
      "1\n",
      "2\n",
      "8\n",
      "4\n",
      "9\n"
     ]
    }
   ],
   "source": [
    "array=[]\n",
    "for i in range(n):\n",
    "    array.append(int(input()))"
   ]
  },
  {
   "cell_type": "code",
   "execution_count": 46,
   "id": "af029e24",
   "metadata": {},
   "outputs": [
    {
     "name": "stdout",
     "output_type": "stream",
     "text": [
      "3\n"
     ]
    }
   ],
   "source": [
    "from itertools import combinations\n",
    "num=list(set(combinations(array,c)))\n",
    "final=0\n",
    "for i in range(len(num)):\n",
    "    using=sorted(num[i])\n",
    "    minus=100000\n",
    "    for i in range(1,len(using)):\n",
    "        minus=min(minus, using[i]-using[i-1])\n",
    "    final=max(minus, final)\n",
    "print(final)"
   ]
  },
  {
   "cell_type": "code",
   "execution_count": 56,
   "id": "511acf19",
   "metadata": {},
   "outputs": [
    {
     "name": "stdout",
     "output_type": "stream",
     "text": [
      "3\n"
     ]
    }
   ],
   "source": [
    "array.sort()\n",
    "start=1 ; end=array[n-1]-array[0]\n",
    "result=0\n",
    "if c==2:\n",
    "    print(array[1]-array[0])\n",
    "else:\n",
    "    while (start<end):\n",
    "        mid=(end+start)//2\n",
    "        count=1\n",
    "        ts=array[0]\n",
    "        for i in range(len(array)):\n",
    "            if array[i]-ts>=mid:\n",
    "                count+=1\n",
    "                ts=array[i]\n",
    "        if count<c:\n",
    "            end=mid\n",
    "        elif count>=c:\n",
    "            result=mid\n",
    "            start=mid+1\n",
    "    print(result)"
   ]
  },
  {
   "cell_type": "markdown",
   "id": "49be2ef7",
   "metadata": {},
   "source": [
    "# Q30"
   ]
  },
  {
   "cell_type": "code",
   "execution_count": 57,
   "id": "94a5127b",
   "metadata": {},
   "outputs": [],
   "source": [
    "words=['frodo','front','frost','frozen','frame','kakao']\n",
    "queries=['fro??','????o','fr???','fro???','pro?']"
   ]
  },
  {
   "cell_type": "code",
   "execution_count": 98,
   "id": "6e93620d",
   "metadata": {},
   "outputs": [],
   "source": [
    "from bisect import bisect_left, bisect_right\n",
    "def count_by_range(array, left_value, right_value):\n",
    "    right_index=bisect_right(array, right_value)\n",
    "    return right_index"
   ]
  },
  {
   "cell_type": "code",
   "execution_count": 131,
   "id": "f7188c0a",
   "metadata": {},
   "outputs": [],
   "source": [
    "def google(queries, words):\n",
    "    if queries[0]!='?':\n",
    "        queries=list(reversed(queries))\n",
    "        words=list(reversed(words))\n",
    "    count=count_by_range(queries, '?','?')\n",
    "    if words[count:]==queries[count:] :\n",
    "        return 1\n",
    "    else :\n",
    "        return 0"
   ]
  },
  {
   "cell_type": "code",
   "execution_count": 133,
   "id": "ebb68826",
   "metadata": {},
   "outputs": [
    {
     "name": "stdout",
     "output_type": "stream",
     "text": [
      "[3, 2, 4, 1, 0]\n"
     ]
    }
   ],
   "source": [
    "result=[0]*len(queries)\n",
    "for i in range(len(words)):\n",
    "    for j in range(len(queries)):\n",
    "        result[j]+=google(queries[j], words[i])\n",
    "print(result)"
   ]
  },
  {
   "cell_type": "code",
   "execution_count": 142,
   "id": "97649044",
   "metadata": {},
   "outputs": [
    {
     "data": {
      "text/plain": [
       "[3, 2, 4, 1, 0]"
      ]
     },
     "execution_count": 142,
     "metadata": {},
     "output_type": "execute_result"
    }
   ],
   "source": [
    "def count_by_range(array, left_value, right_value):\n",
    "    right_index=bisect_right(array, right_value)\n",
    "    left_index=bisect_left(array, left_value)\n",
    "    return right_index-left_index\n",
    "array=[[] for _ in range(10001)]\n",
    "reversed_array=[[] for _ in range(10001)]\n",
    "def solution(words, queries):\n",
    "    answer=[]\n",
    "    for word in words:\n",
    "        array[len(word)].append(word)\n",
    "        reversed_array[len(word)].append(word[::-1])\n",
    "        \n",
    "    for i in range(10001):\n",
    "        array[i].sort()\n",
    "        reversed_array[i].sort()\n",
    "    for q in queries:\n",
    "        if q[0]!='?':\n",
    "            res=count_by_range(array[len(q)], q.replace('?','a'), q.replace('?','z'))\n",
    "        else:\n",
    "            res=count_by_range(reversed_array[len(q)], q[::-1].replace('?','a'), q[::-1].replace('?','z'))\n",
    "        answer.append(res)\n",
    "    return answer\n",
    "solution(words, queries)"
   ]
  },
  {
   "cell_type": "code",
   "execution_count": null,
   "id": "4cbbf036",
   "metadata": {},
   "outputs": [],
   "source": []
  }
 ],
 "metadata": {
  "kernelspec": {
   "display_name": "Python 3",
   "language": "python",
   "name": "python3"
  },
  "language_info": {
   "codemirror_mode": {
    "name": "ipython",
    "version": 3
   },
   "file_extension": ".py",
   "mimetype": "text/x-python",
   "name": "python",
   "nbconvert_exporter": "python",
   "pygments_lexer": "ipython3",
   "version": "3.9.4"
  }
 },
 "nbformat": 4,
 "nbformat_minor": 5
}
