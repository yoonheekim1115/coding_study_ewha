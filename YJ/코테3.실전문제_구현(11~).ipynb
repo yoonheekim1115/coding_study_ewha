{
 "cells": [
  {
   "cell_type": "code",
   "execution_count": 3,
   "metadata": {},
   "outputs": [
    {
     "name": "stdout",
     "output_type": "stream",
     "text": [
      "123402\n",
      "LUCKY\n"
     ]
    }
   ],
   "source": [
    "# 7. 럭키 스트레이트\n",
    "n=input()\n",
    "\n",
    "left = 0\n",
    "right = 0\n",
    "\n",
    "for i in range(len(n)// 2):\n",
    "    left += int(n[i])\n",
    "    right += int(n[len(n)//2 -1 -i])    \n",
    "    \n",
    "if left == right:\n",
    "    print('LUCKY')\n",
    "if left != right:\n",
    "    print('READY')\n"
   ]
  },
  {
   "cell_type": "code",
   "execution_count": 11,
   "metadata": {},
   "outputs": [
    {
     "name": "stdout",
     "output_type": "stream",
     "text": [
      "K1KA5CB7\n",
      "['A', 'B', 'C', 'K', 'K', 13]\n"
     ]
    }
   ],
   "source": [
    "# 8. 문자열 재정렬\n",
    "n=input()\n",
    "result = []\n",
    "num = 0\n",
    "\n",
    "for i in n:\n",
    "    if i.isalpha():\n",
    "        result.append(i)\n",
    "    else:\n",
    "        num += int(i)\n",
    "            \n",
    "result.sort()\n",
    "            \n",
    "if num != 0:\n",
    "    result.append(num)\n",
    "\n",
    "print(result)\n",
    "\n"
   ]
  },
  {
   "cell_type": "code",
   "execution_count": null,
   "metadata": {},
   "outputs": [],
   "source": [
    "# 9. 문자열 압축\n",
    "\n",
    "for step in range(1, len(s)//2 +1):\n",
    "    answer = len(s)\n",
    "    compressed = \"\"\n",
    "    prev = s[0:step]\n",
    "    count = 1\n",
    "    \n",
    "    for j in range(step, len(s), step):\n",
    "        if prev == s[j:j + step]:\n",
    "            count += 1\n",
    "        else: \n",
    "            compressed += str(count) + prev if count >= 2 else prev\n",
    "            prev = s[j:j + step]\n",
    "            count = 1\n",
    "    \n",
    "    compressed += str(count) + prev if count >= 2 else prev\n",
    "            \n",
    "    answer = min(answer, len(compressed))\n",
    "    \n",
    "    return answer\n",
    "\n",
    "\n",
    "\n"
   ]
  },
  {
   "cell_type": "code",
   "execution_count": null,
   "metadata": {},
   "outputs": [],
   "source": [
    "def solution(s):\n",
    "    answer = len(s)\n",
    "    for x in range(1, int(len(s)/2)+1):\n",
    "        d = 0\n",
    "        comp = ''\n",
    "        c = 1\n",
    "        for i in range(0, len(s), x):\n",
    "            temp = s[i:i+x]\n",
    "            if comp == temp:\n",
    "                c += 1\n",
    "            elif comp != temp:\n",
    "                d += len(temp)\n",
    "                if c > 1:\n",
    "                    d += len(\"{}\".format(c))\n",
    "                c = 1\n",
    "                comp = temp\n",
    "        if c > 1:\n",
    "            d += len(\"{}\".format(c))\n",
    "        answer = min(answer, d)\n",
    "    return answer"
   ]
  },
  {
   "cell_type": "code",
   "execution_count": null,
   "metadata": {},
   "outputs": [],
   "source": []
  },
  {
   "cell_type": "code",
   "execution_count": 2,
   "metadata": {},
   "outputs": [
    {
     "name": "stdout",
     "output_type": "stream",
     "text": [
      "6\n",
      "3\n",
      "3 4\n",
      "2 5\n",
      "5 3\n",
      "3\n",
      "3 D\n",
      "15 L\n",
      "17 D\n",
      "9\n"
     ]
    }
   ],
   "source": [
    "# 11. 뱀 ??\n",
    "\n",
    "n=int(input())\n",
    "k=int(input())\n",
    "data=[[0]*(n+1) for _ in range(n+1)]\n",
    "info = []\n",
    "\n",
    "# 맵정보\n",
    "for _ in range(k):\n",
    "    a, b = map(int, input().split())\n",
    "    data[a][b] = 1\n",
    "    \n",
    "l = int(input())\n",
    "for _ in range(l):\n",
    "    x, c = input().split()\n",
    "    info.append((int(x), c))\n",
    "    \n",
    "dx = [0,1,0,-1]\n",
    "dy = [1,0,-1,0]\n",
    "\n"
   ]
  },
  {
   "cell_type": "code",
   "execution_count": null,
   "metadata": {},
   "outputs": [],
   "source": [
    "# 12. 기둥과 보 설치 ??\n",
    "def possible(answer):\n",
    "    for x,y, stuff in answer:\n",
    "        if stuff == 0:\n",
    "            if y == 0 or [x-1,y,1] in anwer or [x,y,1] in answer or [x,y-1,0]\n"
   ]
  },
  {
   "cell_type": "code",
   "execution_count": 8,
   "metadata": {},
   "outputs": [
    {
     "name": "stdout",
     "output_type": "stream",
     "text": [
      "5 3\n",
      "0 0 1 0 0\n",
      "0 0 2 0 1\n",
      "0 1 2 0 0\n",
      "0 0 1 0 0\n",
      "0 0 0 0 2\n",
      "[(0, 2), (1, 4), (2, 1), (3, 2)]\n",
      "[(1, 2), (2, 2), (4, 4)]\n",
      "[((1, 2), (2, 2), (4, 4))]\n"
     ]
    },
    {
     "ename": "SyntaxError",
     "evalue": "'return' outside function (<ipython-input-8-22dc24057c79>, line 38)",
     "output_type": "error",
     "traceback": [
      "\u001b[1;36m  File \u001b[1;32m\"<ipython-input-8-22dc24057c79>\"\u001b[1;36m, line \u001b[1;32m38\u001b[0m\n\u001b[1;33m    return result\u001b[0m\n\u001b[1;37m                 ^\u001b[0m\n\u001b[1;31mSyntaxError\u001b[0m\u001b[1;31m:\u001b[0m 'return' outside function\n"
     ]
    }
   ],
   "source": [
    "# 13. 치킨배달\n",
    "# 도시칸(r,c) -> 빈칸, 치킨집, 집 중 하나\n",
    "# 치킨거리: 집과 가장 가까운 치킨집 사이의 거리, 집을 기준 \n",
    "# 도시의 치킨거리 = 모든 집의 치킨거리의 합\n",
    "# (r1,c1)과 (r2,c2)사이의 거리 = abs(r1-r2) + abs(c1-c2)\n",
    "# 0:빈칸, 1:집, 2:치킨집\n",
    "# 가장 수익을 많이 낼 수 있는 치킨집의 개수는 최대 M개\n",
    "# M개 빼고 나머지 치킨집 폐업. --> 치킨거리 최소화하게 고르는 방법 작성\n",
    "# input: 2=<N=<50(도시크기 NxN), 1=<M=<13 : 집의 개수 =< 2N(최소한 1개), 13>=치킨집 >= M\n",
    "from itertools import combinations\n",
    "from itertools import product\n",
    "from itertools import permutations\n",
    "\n",
    "n,m = map(int, input().split())\n",
    "house = [] # 집\n",
    "chicken = [] # 치킨집\n",
    "result=0 # 치킨거리\n",
    "\n",
    "for r in range(n):\n",
    "    data = list(map(int, input().split()))\n",
    "    for c in range(n):\n",
    "        if data[c] == 1:\n",
    "            house.append((r,c))\n",
    "        if data[c] == 2:\n",
    "            chicken.append((r,c))\n",
    "\n",
    "comb = list(combinations(chicken, m))\n",
    "\n",
    "print(house)\n",
    "print(chicken)\n",
    "print(comb)\n",
    "dist = 0\n",
    "def add(pick):\n",
    "    for hr, hc in house:\n",
    "        for cr, cc in comb:\n",
    "            dist = abs(hr - cr) + abs(hc - cc)\n",
    "        result.append(dist)\n",
    "    return result\n",
    "\n",
    "for pick in comb:\n",
    "    result = min(result, add(pick))\n",
    "    \n",
    "print(result)\n",
    "\n",
    "\n"
   ]
  },
  {
   "cell_type": "code",
   "execution_count": 1,
   "metadata": {},
   "outputs": [
    {
     "ename": "NameError",
     "evalue": "name 'pick' is not defined",
     "output_type": "error",
     "traceback": [
      "\u001b[1;31m---------------------------------------------------------------------------\u001b[0m",
      "\u001b[1;31mNameError\u001b[0m                                 Traceback (most recent call last)",
      "\u001b[1;32m<ipython-input-1-108a7a76089a>\u001b[0m in \u001b[0;36m<module>\u001b[1;34m\u001b[0m\n\u001b[1;32m----> 1\u001b[1;33m \u001b[0mprint\u001b[0m\u001b[1;33m(\u001b[0m\u001b[0mpick\u001b[0m\u001b[1;33m)\u001b[0m\u001b[1;33m\u001b[0m\u001b[1;33m\u001b[0m\u001b[0m\n\u001b[0m\u001b[0;32m      2\u001b[0m \u001b[1;33m\u001b[0m\u001b[0m\n",
      "\u001b[1;31mNameError\u001b[0m: name 'pick' is not defined"
     ]
    }
   ],
   "source": [
    "print(pick)\n",
    "\n",
    "0 0 1 0 0\n",
    "0 0 2 0 1\n",
    "0 1 2 0 0\n",
    "0 0 1 0 0\n",
    "0 0 0 0 2"
   ]
  },
  {
   "cell_type": "code",
   "execution_count": null,
   "metadata": {},
   "outputs": [],
   "source": [
    "# 14. 외벽점검\n"
   ]
  },
  {
   "cell_type": "code",
   "execution_count": null,
   "metadata": {},
   "outputs": [],
   "source": []
  },
  {
   "cell_type": "code",
   "execution_count": null,
   "metadata": {},
   "outputs": [],
   "source": []
  }
 ],
 "metadata": {
  "kernelspec": {
   "display_name": "Python 3",
   "language": "python",
   "name": "python3"
  },
  "language_info": {
   "codemirror_mode": {
    "name": "ipython",
    "version": 3
   },
   "file_extension": ".py",
   "mimetype": "text/x-python",
   "name": "python",
   "nbconvert_exporter": "python",
   "pygments_lexer": "ipython3",
   "version": "3.7.6"
  }
 },
 "nbformat": 4,
 "nbformat_minor": 4
}
